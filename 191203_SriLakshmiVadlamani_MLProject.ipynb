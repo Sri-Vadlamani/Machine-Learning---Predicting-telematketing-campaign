{
 "cells": [
  {
   "cell_type": "markdown",
   "metadata": {},
   "source": [
    "#   <center> Machine Learning - CSI5155 Fall 2019 <center>University of Ottawa \n",
    "##   <center> Project: Predict the Success of Bank Telemarketing Campaign\n",
    "###  <center>Submitted by: Sri Lakshmi Vadlamani <center>Student ID: 300154172"
   ]
  },
  {
   "cell_type": "markdown",
   "metadata": {},
   "source": [
    "# Table of Contents\n",
    "\n",
    "1. **[Introduction](#1)**\n",
    "2. **[Data preprocessing & Exploratory analysis](#2)** \n",
    "3. **[Model construction](#3)**\n",
    "4. **[Feature Selection](#4)**\n",
    "5. **[Statistical Significance](#5)**\n",
    "6. **[Model evaluation](#6)**\n",
    "7. **[Results](#7)**\n",
    "8. **[Conclusion & Recommendations](#8)**\n",
    "9. **[References](#9)**"
   ]
  },
  {
   "cell_type": "markdown",
   "metadata": {},
   "source": [
    "<a id='#1'></a>\n",
    "## 1. Introduction\n",
    "\n",
    "The goal of this project is to predict the success of telemarketing calls for selling bank long-term deposits by employing several supervised machine learning models. Understanding customers' needs and developing better marketing strategies increases overall productivity of banking industry, thus reducing the expenditure on undesirable advertisements.  \n",
    "\n",
    "The dataset for this project originates from the UCI Machine Learning Repository. This dataset is a modified version of the dataset published in the paper  [Moro et al., 2014].\n",
    "”http://media.salford-systems.com/video/tutorial/2015/targeted_marketing.pdf”\n",
    "\n",
    "The project was carried out as a part of course requirement of CSI5155-Machine Learning."
   ]
  },
  {
   "cell_type": "code",
   "execution_count": 1,
   "metadata": {},
   "outputs": [],
   "source": [
    "import numpy as np\n",
    "import pandas as pd\n",
    "import random\n",
    "import warnings\n",
    "warnings.filterwarnings(\"ignore\")\n",
    "import seaborn as sns\n",
    "import matplotlib.pyplot as plt\n",
    "%matplotlib inline\n",
    "from matplotlib import figure\n",
    "from sklearn.preprocessing import MinMaxScaler, StandardScaler"
   ]
  },
  {
   "cell_type": "code",
   "execution_count": 2,
   "metadata": {},
   "outputs": [
    {
     "name": "stdout",
     "output_type": "stream",
     "text": [
      "(41188, 16)\n"
     ]
    },
    {
     "data": {
      "text/html": [
       "<div>\n",
       "<style scoped>\n",
       "    .dataframe tbody tr th:only-of-type {\n",
       "        vertical-align: middle;\n",
       "    }\n",
       "\n",
       "    .dataframe tbody tr th {\n",
       "        vertical-align: top;\n",
       "    }\n",
       "\n",
       "    .dataframe thead th {\n",
       "        text-align: right;\n",
       "    }\n",
       "</style>\n",
       "<table border=\"1\" class=\"dataframe\">\n",
       "  <thead>\n",
       "    <tr style=\"text-align: right;\">\n",
       "      <th></th>\n",
       "      <th>age</th>\n",
       "      <th>job</th>\n",
       "      <th>marital</th>\n",
       "      <th>education</th>\n",
       "      <th>default</th>\n",
       "      <th>housing</th>\n",
       "      <th>loan</th>\n",
       "      <th>contact</th>\n",
       "      <th>month</th>\n",
       "      <th>day_of_week</th>\n",
       "      <th>duration</th>\n",
       "      <th>campaign</th>\n",
       "      <th>pdays</th>\n",
       "      <th>previous</th>\n",
       "      <th>poutcome</th>\n",
       "      <th>y</th>\n",
       "    </tr>\n",
       "  </thead>\n",
       "  <tbody>\n",
       "    <tr>\n",
       "      <th>0</th>\n",
       "      <td>56</td>\n",
       "      <td>housemaid</td>\n",
       "      <td>married</td>\n",
       "      <td>basic_4y</td>\n",
       "      <td>no</td>\n",
       "      <td>no</td>\n",
       "      <td>no</td>\n",
       "      <td>telephone</td>\n",
       "      <td>may</td>\n",
       "      <td>mon</td>\n",
       "      <td>261</td>\n",
       "      <td>1</td>\n",
       "      <td>999</td>\n",
       "      <td>0</td>\n",
       "      <td>nonexistent</td>\n",
       "      <td>no</td>\n",
       "    </tr>\n",
       "    <tr>\n",
       "      <th>1</th>\n",
       "      <td>57</td>\n",
       "      <td>services</td>\n",
       "      <td>married</td>\n",
       "      <td>high_school</td>\n",
       "      <td>unknown</td>\n",
       "      <td>no</td>\n",
       "      <td>no</td>\n",
       "      <td>telephone</td>\n",
       "      <td>may</td>\n",
       "      <td>mon</td>\n",
       "      <td>149</td>\n",
       "      <td>1</td>\n",
       "      <td>999</td>\n",
       "      <td>0</td>\n",
       "      <td>nonexistent</td>\n",
       "      <td>no</td>\n",
       "    </tr>\n",
       "    <tr>\n",
       "      <th>2</th>\n",
       "      <td>37</td>\n",
       "      <td>services</td>\n",
       "      <td>married</td>\n",
       "      <td>high_school</td>\n",
       "      <td>no</td>\n",
       "      <td>yes</td>\n",
       "      <td>no</td>\n",
       "      <td>telephone</td>\n",
       "      <td>may</td>\n",
       "      <td>mon</td>\n",
       "      <td>226</td>\n",
       "      <td>1</td>\n",
       "      <td>999</td>\n",
       "      <td>0</td>\n",
       "      <td>nonexistent</td>\n",
       "      <td>no</td>\n",
       "    </tr>\n",
       "    <tr>\n",
       "      <th>3</th>\n",
       "      <td>40</td>\n",
       "      <td>admin</td>\n",
       "      <td>married</td>\n",
       "      <td>basic_6y</td>\n",
       "      <td>no</td>\n",
       "      <td>no</td>\n",
       "      <td>no</td>\n",
       "      <td>telephone</td>\n",
       "      <td>may</td>\n",
       "      <td>mon</td>\n",
       "      <td>151</td>\n",
       "      <td>1</td>\n",
       "      <td>999</td>\n",
       "      <td>0</td>\n",
       "      <td>nonexistent</td>\n",
       "      <td>no</td>\n",
       "    </tr>\n",
       "    <tr>\n",
       "      <th>4</th>\n",
       "      <td>56</td>\n",
       "      <td>services</td>\n",
       "      <td>married</td>\n",
       "      <td>high_school</td>\n",
       "      <td>no</td>\n",
       "      <td>no</td>\n",
       "      <td>yes</td>\n",
       "      <td>telephone</td>\n",
       "      <td>may</td>\n",
       "      <td>mon</td>\n",
       "      <td>307</td>\n",
       "      <td>1</td>\n",
       "      <td>999</td>\n",
       "      <td>0</td>\n",
       "      <td>nonexistent</td>\n",
       "      <td>no</td>\n",
       "    </tr>\n",
       "  </tbody>\n",
       "</table>\n",
       "</div>"
      ],
      "text/plain": [
       "   age        job  marital    education  default housing loan    contact  \\\n",
       "0   56  housemaid  married     basic_4y       no      no   no  telephone   \n",
       "1   57   services  married  high_school  unknown      no   no  telephone   \n",
       "2   37   services  married  high_school       no     yes   no  telephone   \n",
       "3   40      admin  married     basic_6y       no      no   no  telephone   \n",
       "4   56   services  married  high_school       no      no  yes  telephone   \n",
       "\n",
       "  month day_of_week  duration  campaign  pdays  previous     poutcome   y  \n",
       "0   may         mon       261         1    999         0  nonexistent  no  \n",
       "1   may         mon       149         1    999         0  nonexistent  no  \n",
       "2   may         mon       226         1    999         0  nonexistent  no  \n",
       "3   may         mon       151         1    999         0  nonexistent  no  \n",
       "4   may         mon       307         1    999         0  nonexistent  no  "
      ]
     },
     "execution_count": 2,
     "metadata": {},
     "output_type": "execute_result"
    }
   ],
   "source": [
    "# Load the telemarketing dataset\n",
    "df = pd.read_csv(\"bank_full.csv\")\n",
    "df=df.drop(['Unnamed: 0'],axis=1)\n",
    "print (df.shape)\n",
    "df.head()"
   ]
  },
  {
   "cell_type": "markdown",
   "metadata": {},
   "source": [
    "The file includes 41188 rows and 16 columns as follows:\n",
    "##### Bank client data:\n",
    "- **1. age** : The age of customer\n",
    "- **2. job** : Type of job (categorical: 'admin.','blue-collar','entrepreneur','housemaid','management','retired','self-      employed','services','student','technician','unemployed','unknown')\n",
    "- **3. marital** : Marital status (categorical: 'divorced','married','single','unknown'; note: 'divorced' means divorced or widowed)\n",
    "- **4. education** : (categorical: 'Secondary','Primary','Teritiary','unknown')\n",
    "- **5. default** : Has credit in default? (categorical: 'no','yes','unknown')\n",
    "- **6. housing** : Has housing loan? (categorical: 'no','yes','unknown')\n",
    "- **7. loan** : Has personal loan? (categorical: 'no','yes','unknown')\n",
    "\n",
    "##### Related with the last contact of the current campaign:\n",
    "- **8. contact** : Contact communication type (categorical: 'cellular','telephone')\n",
    "- **9. month** : Last contact month of year (categorical: 'jan', 'feb', 'mar', ..., 'nov', 'dec')\n",
    "- **10. day_of_week** : Last contact day of the week (categorical: 'mon','tue','wed','thu','fri')\n",
    "- **11. duration** : Last contact duration, in seconds (numeric). \n",
    "\n",
    "###### Other attributes:\n",
    "- **12. campaign** : Number of contacts performed during this campaign and for this client (numeric, includes last contact)\n",
    "- **13. pdays** : Number of days that passed by after the client was last contacted from a previous campaign (numeric; 999 means clients were not previously contacted)\n",
    "- **14. previous** : Number of contacts performed before this campaign and for this client (numeric)\n",
    "- **15. poutcome** : Outcome of the previous marketing campaign (categorical: 'failure','nonexistent','success')\n",
    "\n",
    "###### Target Variable\n",
    "- **16. y** : Has the client subscribed a term deposit? (binary: 'yes','no')"
   ]
  },
  {
   "cell_type": "markdown",
   "metadata": {},
   "source": [
    "<a id='#2'></a>\n",
    "## 2. Data preprocessing & Exploratory analysis"
   ]
  },
  {
   "cell_type": "code",
   "execution_count": 3,
   "metadata": {},
   "outputs": [
    {
     "name": "stdout",
     "output_type": "stream",
     "text": [
      "<class 'pandas.core.frame.DataFrame'>\n",
      "RangeIndex: 41188 entries, 0 to 41187\n",
      "Data columns (total 16 columns):\n",
      "age            41188 non-null int64\n",
      "job            41188 non-null object\n",
      "marital        41188 non-null object\n",
      "education      41188 non-null object\n",
      "default        41188 non-null object\n",
      "housing        41188 non-null object\n",
      "loan           41188 non-null object\n",
      "contact        41188 non-null object\n",
      "month          41188 non-null object\n",
      "day_of_week    41188 non-null object\n",
      "duration       41188 non-null int64\n",
      "campaign       41188 non-null int64\n",
      "pdays          41188 non-null int64\n",
      "previous       41188 non-null int64\n",
      "poutcome       41188 non-null object\n",
      "y              41188 non-null object\n",
      "dtypes: int64(5), object(11)\n",
      "memory usage: 5.0+ MB\n"
     ]
    }
   ],
   "source": [
    "df.info()"
   ]
  },
  {
   "cell_type": "markdown",
   "metadata": {},
   "source": [
    "#### 1. I have dropped the 'duration' variable as the value of the variable will only be known at the end of the call. Hence it does not play any role in predicting the features needed for successful telemarketing"
   ]
  },
  {
   "cell_type": "code",
   "execution_count": 4,
   "metadata": {},
   "outputs": [],
   "source": [
    "df=df.drop(['duration'],axis=1)"
   ]
  },
  {
   "cell_type": "markdown",
   "metadata": {},
   "source": [
    "#### 2. Change column name 'y' to a meaningfull name 'client-response' ."
   ]
  },
  {
   "cell_type": "code",
   "execution_count": 5,
   "metadata": {},
   "outputs": [],
   "source": [
    "df.rename(index=str, columns={'y': 'client-response'}, inplace = True)"
   ]
  },
  {
   "cell_type": "markdown",
   "metadata": {},
   "source": [
    "#### 3.Checking missing values for categorical variables and fixing them."
   ]
  },
  {
   "cell_type": "code",
   "execution_count": 6,
   "metadata": {},
   "outputs": [
    {
     "data": {
      "image/png": "[encoded data removed]",
      "text/plain": [
       "<Figure size 720x288 with 1 Axes>"
      ]
     },
     "metadata": {
      "needs_background": "light"
     },
     "output_type": "display_data"
    },
    {
     "data": {
      "image/png": "[encoded data removed]",
      "text/plain": [
       "<Figure size 720x288 with 1 Axes>"
      ]
     },
     "metadata": {
      "needs_background": "light"
     },
     "output_type": "display_data"
    },
    {
     "data": {
      "image/png": "[encoded data removed]",
      "text/plain": [
       "<Figure size 720x288 with 1 Axes>"
      ]
     },
     "metadata": {
      "needs_background": "light"
     },
     "output_type": "display_data"
    },
    {
     "data": {
      "image/png": "[encoded data removed]",
      "text/plain": [
       "<Figure size 720x288 with 1 Axes>"
      ]
     },
     "metadata": {
      "needs_background": "light"
     },
     "output_type": "display_data"
    },
    {
     "data": {
      "image/png": "[encoded data removed]",
      "text/plain": [
       "<Figure size 720x288 with 1 Axes>"
      ]
     },
     "metadata": {
      "needs_background": "light"
     },
     "output_type": "display_data"
    },
    {
     "data": {
      "image/png": "[encoded data removed]",
      "text/plain": [
       "<Figure size 720x288 with 1 Axes>"
      ]
     },
     "metadata": {
      "needs_background": "light"
     },
     "output_type": "display_data"
    },
    {
     "data": {
      "image/png": "[encoded data removed]",
      "text/plain": [
       "<Figure size 720x288 with 1 Axes>"
      ]
     },
     "metadata": {
      "needs_background": "light"
     },
     "output_type": "display_data"
    },
    {
     "data": {
      "image/png": "[encoded data removed]",
      "text/plain": [
       "<Figure size 720x288 with 1 Axes>"
      ]
     },
     "metadata": {
      "needs_background": "light"
     },
     "output_type": "display_data"
    },
    {
     "data": {
      "image/png": "[encoded data removed]",
      "text/plain": [
       "<Figure size 720x288 with 1 Axes>"
      ]
     },
     "metadata": {
      "needs_background": "light"
     },
     "output_type": "display_data"
    },
    {
     "data": {
      "image/png": "[encoded data removed]",
      "text/plain": [
       "<Figure size 720x288 with 1 Axes>"
      ]
     },
     "metadata": {
      "needs_background": "light"
     },
     "output_type": "display_data"
    },
    {
     "data": {
      "image/png": "[encoded data removed]",
      "text/plain": [
       "<Figure size 720x288 with 1 Axes>"
      ]
     },
     "metadata": {
      "needs_background": "light"
     },
     "output_type": "display_data"
    }
   ],
   "source": [
    "categorcial_variables = ['job', 'marital', 'education', 'default', 'housing','loan', 'contact', 'month', 'day_of_week', 'poutcome','client-response']\n",
    "for col in categorcial_variables:\n",
    "    plt.figure(figsize=(10,4))\n",
    "    sns.barplot(df[col].value_counts().values, df[col].value_counts().index)\n",
    "    plt.title(col)\n",
    "    plt.tight_layout()\n",
    "    plt.savefig(str(col)+\".png\")"
   ]
  },
  {
   "cell_type": "markdown",
   "metadata": {},
   "source": [
    "**Inference:** \n",
    ">The unknown values percentages for jobs, marital, education, default, housing and loan columns in the data set are 0.8% ,0.2%, 4%, 20%, 2.4%, 2.4% of total respectively.\n",
    "\n",
    ">There are many ways to handle missing data. One of the ways is to discard the row if the percentage of missing data is negligible.\n",
    "Other method is to smartly infer the value of the unknown variable from the other variables. This a way of doing an imputation where other independent variables are used to infer the value of the missing variable. This doesn't gurantee that all missing values will be addressed.\n",
    "\n",
    ">The number of unknowns for 'marital','housing', 'job', 'education' and 'loan' is very low. So, I decided to remove those rows with null values.\n",
    "\n",
    ">The unknown for 'default' variable are considered to be recorded as unknown. It may be possible that customer is not willing to disclose this information to the banking representative. Hence the unknown value in 'default' is actually a separate value."
   ]
  },
  {
   "cell_type": "code",
   "execution_count": 7,
   "metadata": {},
   "outputs": [],
   "source": [
    "# delete row with unknown values in marital, loan and housing coulumns.\n",
    "df = df.drop(df[df.education == 'unknown'].index, axis = 0, inplace = False)\n",
    "df = df.drop(df[df.marital == 'unknown'].index, axis = 0, inplace = False)\n",
    "df = df.drop(df[df.loan == 'unknown'].index, axis = 0, inplace = False)\n",
    "df = df.drop(df[df.job == 'unknown'].index, axis = 0, inplace = False)"
   ]
  },
  {
   "cell_type": "code",
   "execution_count": 8,
   "metadata": {},
   "outputs": [
    {
     "data": {
      "text/plain": [
       "(38245, 15)"
      ]
     },
     "execution_count": 8,
     "metadata": {},
     "output_type": "execute_result"
    }
   ],
   "source": [
    "df.shape"
   ]
  },
  {
   "cell_type": "markdown",
   "metadata": {},
   "source": [
    "#### 4.Checking missing values for numerical variables and fixing them."
   ]
  },
  {
   "cell_type": "code",
   "execution_count": 9,
   "metadata": {},
   "outputs": [
    {
     "data": {
      "image/png": "[encoded data removed]",
      "text/plain": [
       "<Figure size 432x288 with 1 Axes>"
      ]
     },
     "metadata": {
      "needs_background": "light"
     },
     "output_type": "display_data"
    },
    {
     "data": {
      "image/png": "[encoded data removed]",
      "text/plain": [
       "<Figure size 432x288 with 1 Axes>"
      ]
     },
     "metadata": {
      "needs_background": "light"
     },
     "output_type": "display_data"
    }
   ],
   "source": [
    "# lets examine the missing values in pdays\n",
    "# Filter out missing values encoded with '999' value when plotting the histogram of values in order to properly understand the distribution of the known values.\n",
    "plt.hist(df['pdays'])\n",
    "plt.savefig(\"pday1.png\")\n",
    "plt.show()\n",
    "\n",
    "\n",
    "df1=df.loc[df.pdays != 999]\n",
    "plt.hist(df1['pdays'])\n",
    "plt.savefig(\"pday2.png\")\n",
    "plt.show()\n"
   ]
  },
  {
   "cell_type": "code",
   "execution_count": 10,
   "metadata": {},
   "outputs": [
    {
     "data": {
      "text/html": [
       "<div>\n",
       "<style scoped>\n",
       "    .dataframe tbody tr th:only-of-type {\n",
       "        vertical-align: middle;\n",
       "    }\n",
       "\n",
       "    .dataframe tbody tr th {\n",
       "        vertical-align: top;\n",
       "    }\n",
       "\n",
       "    .dataframe thead th {\n",
       "        text-align: right;\n",
       "    }\n",
       "</style>\n",
       "<table border=\"1\" class=\"dataframe\">\n",
       "  <thead>\n",
       "    <tr style=\"text-align: right;\">\n",
       "      <th></th>\n",
       "      <th>nonexistent</th>\n",
       "      <th>failure</th>\n",
       "      <th>success</th>\n",
       "    </tr>\n",
       "    <tr>\n",
       "      <th>pdays</th>\n",
       "      <th></th>\n",
       "      <th></th>\n",
       "      <th></th>\n",
       "    </tr>\n",
       "  </thead>\n",
       "  <tbody>\n",
       "    <tr>\n",
       "      <th>0</th>\n",
       "      <td>0.0</td>\n",
       "      <td>0.0</td>\n",
       "      <td>15.0</td>\n",
       "    </tr>\n",
       "    <tr>\n",
       "      <th>1</th>\n",
       "      <td>0.0</td>\n",
       "      <td>0.0</td>\n",
       "      <td>24.0</td>\n",
       "    </tr>\n",
       "    <tr>\n",
       "      <th>2</th>\n",
       "      <td>0.0</td>\n",
       "      <td>0.0</td>\n",
       "      <td>57.0</td>\n",
       "    </tr>\n",
       "    <tr>\n",
       "      <th>3</th>\n",
       "      <td>0.0</td>\n",
       "      <td>4.0</td>\n",
       "      <td>389.0</td>\n",
       "    </tr>\n",
       "    <tr>\n",
       "      <th>4</th>\n",
       "      <td>0.0</td>\n",
       "      <td>2.0</td>\n",
       "      <td>104.0</td>\n",
       "    </tr>\n",
       "    <tr>\n",
       "      <th>5</th>\n",
       "      <td>0.0</td>\n",
       "      <td>4.0</td>\n",
       "      <td>41.0</td>\n",
       "    </tr>\n",
       "    <tr>\n",
       "      <th>6</th>\n",
       "      <td>0.0</td>\n",
       "      <td>24.0</td>\n",
       "      <td>355.0</td>\n",
       "    </tr>\n",
       "    <tr>\n",
       "      <th>7</th>\n",
       "      <td>0.0</td>\n",
       "      <td>15.0</td>\n",
       "      <td>37.0</td>\n",
       "    </tr>\n",
       "    <tr>\n",
       "      <th>8</th>\n",
       "      <td>0.0</td>\n",
       "      <td>4.0</td>\n",
       "      <td>10.0</td>\n",
       "    </tr>\n",
       "    <tr>\n",
       "      <th>9</th>\n",
       "      <td>0.0</td>\n",
       "      <td>22.0</td>\n",
       "      <td>33.0</td>\n",
       "    </tr>\n",
       "    <tr>\n",
       "      <th>10</th>\n",
       "      <td>0.0</td>\n",
       "      <td>5.0</td>\n",
       "      <td>39.0</td>\n",
       "    </tr>\n",
       "    <tr>\n",
       "      <th>11</th>\n",
       "      <td>0.0</td>\n",
       "      <td>3.0</td>\n",
       "      <td>23.0</td>\n",
       "    </tr>\n",
       "    <tr>\n",
       "      <th>12</th>\n",
       "      <td>0.0</td>\n",
       "      <td>11.0</td>\n",
       "      <td>42.0</td>\n",
       "    </tr>\n",
       "    <tr>\n",
       "      <th>13</th>\n",
       "      <td>0.0</td>\n",
       "      <td>6.0</td>\n",
       "      <td>27.0</td>\n",
       "    </tr>\n",
       "    <tr>\n",
       "      <th>14</th>\n",
       "      <td>0.0</td>\n",
       "      <td>4.0</td>\n",
       "      <td>14.0</td>\n",
       "    </tr>\n",
       "    <tr>\n",
       "      <th>15</th>\n",
       "      <td>0.0</td>\n",
       "      <td>7.0</td>\n",
       "      <td>15.0</td>\n",
       "    </tr>\n",
       "    <tr>\n",
       "      <th>16</th>\n",
       "      <td>0.0</td>\n",
       "      <td>2.0</td>\n",
       "      <td>6.0</td>\n",
       "    </tr>\n",
       "    <tr>\n",
       "      <th>17</th>\n",
       "      <td>0.0</td>\n",
       "      <td>3.0</td>\n",
       "      <td>3.0</td>\n",
       "    </tr>\n",
       "    <tr>\n",
       "      <th>18</th>\n",
       "      <td>0.0</td>\n",
       "      <td>3.0</td>\n",
       "      <td>2.0</td>\n",
       "    </tr>\n",
       "    <tr>\n",
       "      <th>19</th>\n",
       "      <td>0.0</td>\n",
       "      <td>1.0</td>\n",
       "      <td>2.0</td>\n",
       "    </tr>\n",
       "    <tr>\n",
       "      <th>21</th>\n",
       "      <td>0.0</td>\n",
       "      <td>2.0</td>\n",
       "      <td>0.0</td>\n",
       "    </tr>\n",
       "    <tr>\n",
       "      <th>22</th>\n",
       "      <td>0.0</td>\n",
       "      <td>0.0</td>\n",
       "      <td>3.0</td>\n",
       "    </tr>\n",
       "    <tr>\n",
       "      <th>25</th>\n",
       "      <td>0.0</td>\n",
       "      <td>1.0</td>\n",
       "      <td>0.0</td>\n",
       "    </tr>\n",
       "    <tr>\n",
       "      <th>26</th>\n",
       "      <td>0.0</td>\n",
       "      <td>0.0</td>\n",
       "      <td>1.0</td>\n",
       "    </tr>\n",
       "    <tr>\n",
       "      <th>27</th>\n",
       "      <td>0.0</td>\n",
       "      <td>0.0</td>\n",
       "      <td>1.0</td>\n",
       "    </tr>\n",
       "    <tr>\n",
       "      <th>999</th>\n",
       "      <td>33066.0</td>\n",
       "      <td>3813.0</td>\n",
       "      <td>0.0</td>\n",
       "    </tr>\n",
       "  </tbody>\n",
       "</table>\n",
       "</div>"
      ],
      "text/plain": [
       "       nonexistent  failure  success\n",
       "pdays                               \n",
       "0              0.0      0.0     15.0\n",
       "1              0.0      0.0     24.0\n",
       "2              0.0      0.0     57.0\n",
       "3              0.0      4.0    389.0\n",
       "4              0.0      2.0    104.0\n",
       "5              0.0      4.0     41.0\n",
       "6              0.0     24.0    355.0\n",
       "7              0.0     15.0     37.0\n",
       "8              0.0      4.0     10.0\n",
       "9              0.0     22.0     33.0\n",
       "10             0.0      5.0     39.0\n",
       "11             0.0      3.0     23.0\n",
       "12             0.0     11.0     42.0\n",
       "13             0.0      6.0     27.0\n",
       "14             0.0      4.0     14.0\n",
       "15             0.0      7.0     15.0\n",
       "16             0.0      2.0      6.0\n",
       "17             0.0      3.0      3.0\n",
       "18             0.0      3.0      2.0\n",
       "19             0.0      1.0      2.0\n",
       "21             0.0      2.0      0.0\n",
       "22             0.0      0.0      3.0\n",
       "25             0.0      1.0      0.0\n",
       "26             0.0      0.0      1.0\n",
       "27             0.0      0.0      1.0\n",
       "999        33066.0   3813.0      0.0"
      ]
     },
     "execution_count": 10,
     "metadata": {},
     "output_type": "execute_result"
    }
   ],
   "source": [
    "# Now, to infer the missing values in 'pdays',  cross-tabulation between 'pdays' and 'poutcomes' is made.\n",
    "def cross_tab(df,f1,f2):\n",
    "    jobs=list(df[f1].unique())\n",
    "    edu=list(df[f2].unique())\n",
    "    dataframes=[]\n",
    "    for e in edu:\n",
    "        dfe=df[df[f2]==e]\n",
    "        dfejob=dfe.groupby(f1).count()[f2]\n",
    "        dataframes.append(dfejob)\n",
    "    xx=pd.concat(dataframes,axis=1)\n",
    "    xx.columns=edu\n",
    "    xx=xx.fillna(0)\n",
    "    return xx\n",
    "cross_tab(df,'pdays','poutcome')"
   ]
  },
  {
   "cell_type": "markdown",
   "metadata": {},
   "source": [
    "**Inference:** \n",
    "> As it can be see from the above table, the majority of the values for 'pdays' are missing. The majority of these missing values occur when the 'poutcome' is 'non-existent'. This means that the majority of the values in 'pdays' are missing because the customer was never contacted before. To deal with this variable, pdays is converted from numerical to categorical.\n",
    "\n",
    "> The pdays is binned into 4 categories and binarized. pdays_999, pdays_1-9, pdays_10-19, and pdays_20-29."
   ]
  },
  {
   "cell_type": "code",
   "execution_count": 11,
   "metadata": {},
   "outputs": [],
   "source": [
    "df['pdays_999'] = 0\n",
    "df['pdays_1_9'] = 0\n",
    "df['pdays_10_19'] = 0\n",
    "df['pdays_20_29'] = 0\n",
    "df['pdays_999'][df['pdays']==999] = 1\n",
    "df['pdays_1_9'][(df['pdays']>=1) & (df['pdays']<=9)] = 1\n",
    "df['pdays_10_19'][(df['pdays']>=10) & (df['pdays']<=19)] = 1\n",
    "df['pdays_20_29'][(df['pdays']>=20) & (df['pdays']<=29)]= 1\n",
    "df=df.drop(['pdays'],axis=1)"
   ]
  },
  {
   "cell_type": "code",
   "execution_count": 12,
   "metadata": {},
   "outputs": [
    {
     "data": {
      "text/plain": [
       "Index(['age', 'job', 'marital', 'education', 'default', 'housing', 'loan',\n",
       "       'contact', 'month', 'day_of_week', 'campaign', 'previous', 'poutcome',\n",
       "       'client-response', 'pdays_999', 'pdays_1_9', 'pdays_10_19',\n",
       "       'pdays_20_29'],\n",
       "      dtype='object')"
      ]
     },
     "execution_count": 12,
     "metadata": {},
     "output_type": "execute_result"
    }
   ],
   "source": [
    "df.columns"
   ]
  },
  {
   "cell_type": "markdown",
   "metadata": {},
   "source": [
    "#### 5.Analising the data distribution by plotting graphs for numerical fields"
   ]
  },
  {
   "cell_type": "code",
   "execution_count": 13,
   "metadata": {},
   "outputs": [
    {
     "data": {
      "image/png": "[encoded data removed]",
      "text/plain": [
       "<Figure size 720x720 with 4 Axes>"
      ]
     },
     "metadata": {
      "needs_background": "light"
     },
     "output_type": "display_data"
    }
   ],
   "source": [
    "header = ['age','campaign','previous']\n",
    "df.hist(column=header,figsize=(10,10))\n",
    "plt.subplots_adjust(wspace = 0.5, hspace = 0.5)\n",
    "plt.savefig(\"numerical.png\")\n",
    "plt.show()\n"
   ]
  },
  {
   "cell_type": "markdown",
   "metadata": {},
   "source": [
    "**Inference:** \n",
    ">It can be seen that the data is not evenly distributed, therefore we need to standardize"
   ]
  },
  {
   "cell_type": "code",
   "execution_count": 14,
   "metadata": {},
   "outputs": [],
   "source": [
    "#using minmax scalar to standardize the columns\n",
    "idx_numeric=[0,10,11]\n",
    "scaler = MinMaxScaler()\n",
    "df[df.columns[idx_numeric]] = scaler.fit_transform(df[df.columns[idx_numeric]])"
   ]
  },
  {
   "cell_type": "markdown",
   "metadata": {},
   "source": [
    "#### 6. Encoding the categorical data\n",
    "Categorical variables can be either Ordinal or Nominal. \n",
    "\n",
    "'poutcome', 'default', 'housing','loan' and 'client response' are ordinal variables in the dataset. These can be handled by coding them to **'-1','0','1'.**\n",
    "\n",
    "'job', 'maritial', 'education', 'contact', 'month', 'day_of_week' are Nominal Variables in the dataset. These can be handled by **one hot encoding.**"
   ]
  },
  {
   "cell_type": "code",
   "execution_count": 15,
   "metadata": {},
   "outputs": [],
   "source": [
    "df['poutcome'] = df['poutcome'].map({'failure': -1,'nonexistent': 0,'success': 1})\n",
    "df['default'] = df['default'].map({'yes': -1,'unknown': 0,'no': 1})\n",
    "df['housing'] = df['housing'].map({'yes': -1,'no': 1})\n",
    "df['loan'] = df['loan'].map({'yes': -1,'no': 1})\n",
    "df['client-response'] = df['client-response'].map({'yes': 1,'no': 0})"
   ]
  },
  {
   "cell_type": "code",
   "execution_count": 16,
   "metadata": {},
   "outputs": [
    {
     "data": {
      "text/html": [
       "<div>\n",
       "<style scoped>\n",
       "    .dataframe tbody tr th:only-of-type {\n",
       "        vertical-align: middle;\n",
       "    }\n",
       "\n",
       "    .dataframe tbody tr th {\n",
       "        vertical-align: top;\n",
       "    }\n",
       "\n",
       "    .dataframe thead th {\n",
       "        text-align: right;\n",
       "    }\n",
       "</style>\n",
       "<table border=\"1\" class=\"dataframe\">\n",
       "  <thead>\n",
       "    <tr style=\"text-align: right;\">\n",
       "      <th></th>\n",
       "      <th>age</th>\n",
       "      <th>default</th>\n",
       "      <th>housing</th>\n",
       "      <th>loan</th>\n",
       "      <th>campaign</th>\n",
       "      <th>previous</th>\n",
       "      <th>poutcome</th>\n",
       "      <th>client-response</th>\n",
       "      <th>pdays_999</th>\n",
       "      <th>pdays_1_9</th>\n",
       "      <th>...</th>\n",
       "      <th>month_mar</th>\n",
       "      <th>month_may</th>\n",
       "      <th>month_nov</th>\n",
       "      <th>month_oct</th>\n",
       "      <th>month_sep</th>\n",
       "      <th>day_of_week_fri</th>\n",
       "      <th>day_of_week_mon</th>\n",
       "      <th>day_of_week_thu</th>\n",
       "      <th>day_of_week_tue</th>\n",
       "      <th>day_of_week_wed</th>\n",
       "    </tr>\n",
       "  </thead>\n",
       "  <tbody>\n",
       "    <tr>\n",
       "      <th>0</th>\n",
       "      <td>0.481481</td>\n",
       "      <td>1</td>\n",
       "      <td>1</td>\n",
       "      <td>1</td>\n",
       "      <td>0.0</td>\n",
       "      <td>0.0</td>\n",
       "      <td>0</td>\n",
       "      <td>0</td>\n",
       "      <td>1</td>\n",
       "      <td>0</td>\n",
       "      <td>...</td>\n",
       "      <td>0</td>\n",
       "      <td>1</td>\n",
       "      <td>0</td>\n",
       "      <td>0</td>\n",
       "      <td>0</td>\n",
       "      <td>0</td>\n",
       "      <td>1</td>\n",
       "      <td>0</td>\n",
       "      <td>0</td>\n",
       "      <td>0</td>\n",
       "    </tr>\n",
       "    <tr>\n",
       "      <th>1</th>\n",
       "      <td>0.493827</td>\n",
       "      <td>0</td>\n",
       "      <td>1</td>\n",
       "      <td>1</td>\n",
       "      <td>0.0</td>\n",
       "      <td>0.0</td>\n",
       "      <td>0</td>\n",
       "      <td>0</td>\n",
       "      <td>1</td>\n",
       "      <td>0</td>\n",
       "      <td>...</td>\n",
       "      <td>0</td>\n",
       "      <td>1</td>\n",
       "      <td>0</td>\n",
       "      <td>0</td>\n",
       "      <td>0</td>\n",
       "      <td>0</td>\n",
       "      <td>1</td>\n",
       "      <td>0</td>\n",
       "      <td>0</td>\n",
       "      <td>0</td>\n",
       "    </tr>\n",
       "    <tr>\n",
       "      <th>2</th>\n",
       "      <td>0.246914</td>\n",
       "      <td>1</td>\n",
       "      <td>-1</td>\n",
       "      <td>1</td>\n",
       "      <td>0.0</td>\n",
       "      <td>0.0</td>\n",
       "      <td>0</td>\n",
       "      <td>0</td>\n",
       "      <td>1</td>\n",
       "      <td>0</td>\n",
       "      <td>...</td>\n",
       "      <td>0</td>\n",
       "      <td>1</td>\n",
       "      <td>0</td>\n",
       "      <td>0</td>\n",
       "      <td>0</td>\n",
       "      <td>0</td>\n",
       "      <td>1</td>\n",
       "      <td>0</td>\n",
       "      <td>0</td>\n",
       "      <td>0</td>\n",
       "    </tr>\n",
       "    <tr>\n",
       "      <th>3</th>\n",
       "      <td>0.283951</td>\n",
       "      <td>1</td>\n",
       "      <td>1</td>\n",
       "      <td>1</td>\n",
       "      <td>0.0</td>\n",
       "      <td>0.0</td>\n",
       "      <td>0</td>\n",
       "      <td>0</td>\n",
       "      <td>1</td>\n",
       "      <td>0</td>\n",
       "      <td>...</td>\n",
       "      <td>0</td>\n",
       "      <td>1</td>\n",
       "      <td>0</td>\n",
       "      <td>0</td>\n",
       "      <td>0</td>\n",
       "      <td>0</td>\n",
       "      <td>1</td>\n",
       "      <td>0</td>\n",
       "      <td>0</td>\n",
       "      <td>0</td>\n",
       "    </tr>\n",
       "    <tr>\n",
       "      <th>4</th>\n",
       "      <td>0.481481</td>\n",
       "      <td>1</td>\n",
       "      <td>1</td>\n",
       "      <td>-1</td>\n",
       "      <td>0.0</td>\n",
       "      <td>0.0</td>\n",
       "      <td>0</td>\n",
       "      <td>0</td>\n",
       "      <td>1</td>\n",
       "      <td>0</td>\n",
       "      <td>...</td>\n",
       "      <td>0</td>\n",
       "      <td>1</td>\n",
       "      <td>0</td>\n",
       "      <td>0</td>\n",
       "      <td>0</td>\n",
       "      <td>0</td>\n",
       "      <td>1</td>\n",
       "      <td>0</td>\n",
       "      <td>0</td>\n",
       "      <td>0</td>\n",
       "    </tr>\n",
       "  </tbody>\n",
       "</table>\n",
       "<p>5 rows × 50 columns</p>\n",
       "</div>"
      ],
      "text/plain": [
       "        age  default  housing  loan  campaign  previous  poutcome  \\\n",
       "0  0.481481        1        1     1       0.0       0.0         0   \n",
       "1  0.493827        0        1     1       0.0       0.0         0   \n",
       "2  0.246914        1       -1     1       0.0       0.0         0   \n",
       "3  0.283951        1        1     1       0.0       0.0         0   \n",
       "4  0.481481        1        1    -1       0.0       0.0         0   \n",
       "\n",
       "   client-response  pdays_999  pdays_1_9  ...  month_mar  month_may  \\\n",
       "0                0          1          0  ...          0          1   \n",
       "1                0          1          0  ...          0          1   \n",
       "2                0          1          0  ...          0          1   \n",
       "3                0          1          0  ...          0          1   \n",
       "4                0          1          0  ...          0          1   \n",
       "\n",
       "   month_nov  month_oct  month_sep  day_of_week_fri  day_of_week_mon  \\\n",
       "0          0          0          0                0                1   \n",
       "1          0          0          0                0                1   \n",
       "2          0          0          0                0                1   \n",
       "3          0          0          0                0                1   \n",
       "4          0          0          0                0                1   \n",
       "\n",
       "   day_of_week_thu  day_of_week_tue  day_of_week_wed  \n",
       "0                0                0                0  \n",
       "1                0                0                0  \n",
       "2                0                0                0  \n",
       "3                0                0                0  \n",
       "4                0                0                0  \n",
       "\n",
       "[5 rows x 50 columns]"
      ]
     },
     "execution_count": 16,
     "metadata": {},
     "output_type": "execute_result"
    }
   ],
   "source": [
    "nominal = ['job','marital','education','contact','month','day_of_week']\n",
    "df = pd.get_dummies(df,columns=nominal)\n",
    "df.head()"
   ]
  },
  {
   "cell_type": "code",
   "execution_count": 17,
   "metadata": {},
   "outputs": [
    {
     "data": {
      "text/plain": [
       "Index(['age', 'default', 'housing', 'loan', 'campaign', 'previous', 'poutcome',\n",
       "       'client-response', 'pdays_999', 'pdays_1_9', 'pdays_10_19',\n",
       "       'pdays_20_29', 'job_admin', 'job_blue_collar', 'job_entrepreneur',\n",
       "       'job_housemaid', 'job_management', 'job_retired', 'job_self_employed',\n",
       "       'job_services', 'job_student', 'job_technician', 'job_unemployed',\n",
       "       'marital_divorced', 'marital_married', 'marital_single',\n",
       "       'education_basic_4y', 'education_basic_6y', 'education_basic_9y',\n",
       "       'education_high_school', 'education_illiterate',\n",
       "       'education_professional_course', 'education_university_degree',\n",
       "       'contact_cellular', 'contact_telephone', 'month_apr', 'month_aug',\n",
       "       'month_dec', 'month_jul', 'month_jun', 'month_mar', 'month_may',\n",
       "       'month_nov', 'month_oct', 'month_sep', 'day_of_week_fri',\n",
       "       'day_of_week_mon', 'day_of_week_thu', 'day_of_week_tue',\n",
       "       'day_of_week_wed'],\n",
       "      dtype='object')"
      ]
     },
     "execution_count": 17,
     "metadata": {},
     "output_type": "execute_result"
    }
   ],
   "source": [
    "df.columns"
   ]
  },
  {
   "cell_type": "code",
   "execution_count": 18,
   "metadata": {},
   "outputs": [],
   "source": [
    "df.to_csv('bank_full_clean.csv') "
   ]
  },
  {
   "cell_type": "markdown",
   "metadata": {},
   "source": [
    "<a id='#3'></a>\n",
    "## 3. Model Construction\n",
    "\n",
    "Since the dataset is highly imbalanced, **cost sensitive learning**, **ensembles of classifiers** and **Oversmapling-SMOTE** are used to deal with the class imbalance of the telemarketing dataset.\n",
    "\n",
    "We train and test five types of classifiers on all the imbalance techniques and pick the one with good metrics.\n",
    "\n",
    "The five classifiers are \n",
    "1. Logistic regression (Linear classification)\n",
    "2. Decision tree (Tree based)\n",
    "3. Support Vector Machine (Distance based)\n",
    "4. Skope rules (Rule based)\n",
    "5. Random forest (Ensemble)"
   ]
  },
  {
   "cell_type": "code",
   "execution_count": 19,
   "metadata": {},
   "outputs": [],
   "source": [
    "df_clean = pd.read_csv(\"bank_full_clean.csv\")\n",
    "df_clean=df_clean.drop(['Unnamed: 0'],axis=1)\n",
    "# Dividng data and target sets \n",
    "X = df_clean.drop(columns='client-response')\n",
    "Y = df_clean['client-response']"
   ]
  },
  {
   "cell_type": "code",
   "execution_count": 20,
   "metadata": {},
   "outputs": [],
   "source": [
    "from sklearn.model_selection  import train_test_split, cross_val_score\n",
    "\n",
    "#dividing into train(67%) and test(33%) data\n",
    "X_train, X_test, Y_train, Y_test, = train_test_split(X, Y, test_size=0.33, random_state=42)\n",
    "\n",
    "#The cost matrix for the bank marketing\n",
    "cost_mat_train = np.zeros((len(Y_train),4))\n",
    "#false positives cost 1\n",
    "cost_mat_train[:,0]=1\n",
    "#false negatives cost 11\n",
    "cost_mat_train[:,1]=11\n",
    "#true positives cost 0\n",
    "cost_mat_train[:,2]=0\n",
    "#true negative cost 0\n",
    "cost_mat_train[:,3]=0\n",
    " \n",
    "cost_mat_test = np.zeros((len(Y_test),4))\n",
    "cost_mat_test[:,0]=1\n",
    "cost_mat_test[:,1]=11\n",
    "cost_mat_test[:,2]=0\n",
    "cost_mat_test[:,3]=0"
   ]
  },
  {
   "cell_type": "code",
   "execution_count": 21,
   "metadata": {},
   "outputs": [
    {
     "name": "stderr",
     "output_type": "stream",
     "text": [
      "C:\\Users\\ganip\\Anaconda3\\lib\\site-packages\\sklearn\\externals\\six.py:31: DeprecationWarning: The module is deprecated in version 0.21 and will be removed in version 0.23 since we've dropped support for Python 2.7. Please rely on the official version of six (https://pypi.org/project/six/).\n",
      "  \"(https://pypi.org/project/six/).\", DeprecationWarning)\n",
      "C:\\Users\\ganip\\Anaconda3\\lib\\site-packages\\sklearn\\externals\\joblib\\__init__.py:15: DeprecationWarning: sklearn.externals.joblib is deprecated in 0.21 and will be removed in 0.23. Please import this functionality directly from joblib, which can be installed with: pip install joblib. If this warning is raised when loading pickled models, you may need to re-serialize those models with scikit-learn 0.21+.\n",
      "  warnings.warn(msg, category=DeprecationWarning)\n"
     ]
    }
   ],
   "source": [
    "from sklearn.metrics import f1_score, precision_score, recall_score, accuracy_score,roc_auc_score,roc_curve,confusion_matrix\n",
    "from sklearn.ensemble import RandomForestClassifier\n",
    "from sklearn.tree import DecisionTreeClassifier\n",
    "from sklearn.linear_model import LogisticRegression\n",
    "from sklearn.svm import SVC\n",
    "from skrules import SkopeRules\n",
    "from sklearn.neighbors import KNeighborsClassifier\n",
    "from sklearn.model_selection import cross_val_score\n",
    "from costcla.metrics import cost_loss, savings_score\n",
    "from costcla.models import CostSensitiveLogisticRegression, CostSensitiveDecisionTreeClassifier, CostSensitiveRandomForestClassifier"
   ]
  },
  {
   "cell_type": "markdown",
   "metadata": {},
   "source": [
    "### Cost Sensitive Matrix: \n",
    "Table 4 and Table 5 show the confusion matrix and the cost matrix for the bank direct marketing. \n",
    "\n",
    "In Table 5, there are four notations used to represent the error costs involved, namely, Cnn, Cny, Cyn and Cyy. Take the example of Cyn, it is the cost of misclassifying an actual class YES to Class NO. We assume, in general, predicting a class correctly does not cost anything. Instead, they are regarded as “benefits” [7]. Therefore, the error cost for Cnn and Cyy are both zero. \n",
    "\n",
    "The remaining error costs are: \n",
    "(1) the cost of misclassifying a potential customer to be non-subscriber (Cyn) and \n",
    "(2) the cost of misclassifying a non-potential customer to be a potential one (Cny). Obviously, Cyn is higher than Cny as the bank will lose a possible long term earning if it does not approach the potential customer. \n",
    "\n",
    "Since we do not have the actual error costs, it will be realistic to train classifiers with different Cyn values (from 1 to 11) and then evaluate them. For relative comparison, Cny shall be set to one. To compare cost sensitive classifiers, the total cost metric can be used. The lower the cost, the better a classifier is.\n",
    "<td><img src='Untitled.png' width=\"1000\"><td>"
   ]
  },
  {
   "cell_type": "markdown",
   "metadata": {},
   "source": [
    "#### 1. Classifiers on unbalanced data"
   ]
  },
  {
   "cell_type": "code",
   "execution_count": 22,
   "metadata": {},
   "outputs": [],
   "source": [
    "#---------------------------------------Logistic Regression Classifier-----------------------------------\n",
    "LR = LogisticRegression()\n",
    "LR.fit(X_train,  Y_train)\n",
    "Y_pred = LR.predict(X_test)\n",
    "Y_pred_proba = LR.predict_proba(X_test)[:,1]\n",
    "#calculating the metrics\n",
    "tn, fp, fn, tp = confusion_matrix(Y_test,Y_pred).ravel()\n",
    "cm1=np.array([[tp,fp],[fn,tn]])\n",
    "score1 = cross_val_score(LR, X, Y, cv=10, scoring='accuracy')\n",
    "Acc1 = score1.mean()\n",
    "pre1 = 1.*tp/(tp+fp)\n",
    "rec1 = 1.*tp/(tp+fn)\n",
    "f1_1  = 2*((pre1*rec1)/(pre1+rec1))\n",
    "auc1 = roc_auc_score(Y_test,Y_pred_proba)\n",
    "costloss1 = cost_loss(Y_test,Y_pred,cost_mat_test)\n",
    "\n",
    "#----------------------------------------Decision tree classifier---------------------------------------------\n",
    "DT = DecisionTreeClassifier()\n",
    "DT.fit(X_train,  Y_train)\n",
    "Y_pred = DT.predict(X_test)\n",
    "Y_pred_proba = DT.predict_proba(X_test)[:,1]\n",
    "#calculating the metrics\n",
    "tn, fp, fn, tp = confusion_matrix(Y_test,Y_pred).ravel()\n",
    "cm2=np.array([[tp,fp],[fn,tn]])\n",
    "score2 = cross_val_score(DT, X, Y, cv=10, scoring='accuracy')\n",
    "Acc2 = score2.mean()\n",
    "pre2 = 1.*tp/(tp+fp)\n",
    "rec2 =  1.*tp/(tp+fn)\n",
    "f1_2  = 2*((pre2*rec2)/(pre2+rec2))\n",
    "auc2 = roc_auc_score(Y_test,Y_pred_proba)\n",
    "costloss2 = cost_loss(Y_test,Y_pred,cost_mat_test)\n",
    "\n",
    "#--------------------------------------Support vector machine--------------------------------------------------- \n",
    "SVM = KNeighborsClassifier(n_neighbors=3)\n",
    "SVM.fit(X_train,  Y_train)\n",
    "Y_pred = SVM.predict(X_test)\n",
    "Y_pred_proba = SVM.predict_proba(X_test)[:,1]\n",
    "#calculating the metrics\n",
    "tn, fp, fn, tp = confusion_matrix(Y_test,Y_pred).ravel()\n",
    "cm3 = np.array([[tp,fp],[fn,tn]])\n",
    "score3 = cross_val_score(SVM, X, Y, cv=10, scoring='accuracy')\n",
    "Acc3 = score3.mean()\n",
    "pre3 = 1.*tp/(tp+fp)\n",
    "rec3 =  1.*tp/(tp+fn)\n",
    "f1_3  =  2*((pre3*rec3)/(pre3+rec3))\n",
    "auc3 = roc_auc_score(Y_test,Y_pred_proba)\n",
    "costloss3 = cost_loss(Y_test,Y_pred,cost_mat_test)\n",
    "\n",
    "#----------------------------------------Skoperules Classifier-------------------------------------------------\n",
    "feature_names=['age', 'default', 'housing', 'loan', 'campaign', 'previous', 'poutcome','pdays_999', 'pdays_1_9', \n",
    "               'pdays_10_19','pdays_20_29', 'job_admin', 'job_blue_collar', 'job_entrepreneur','job_housemaid',\n",
    "               'job_management', 'job_retired', 'job_self_employed','job_services', 'job_student', 'job_technician',\n",
    "               'job_unemployed','marital_divorced', 'marital_married', 'marital_single','education_basic_4y',\n",
    "               'education_basic_6y', 'education_basic_9y','education_high_school', 'education_illiterate',\n",
    "               'education_professional_course', 'education_university_degree','contact_cellular', 'contact_telephone',\n",
    "               'month_apr', 'month_aug','month_dec', 'month_jul', 'month_jun', 'month_mar', 'month_may','month_nov',\n",
    "               'month_oct', 'month_sep', 'day_of_week_fri','day_of_week_mon', 'day_of_week_thu', 'day_of_week_tue',\n",
    "               'day_of_week_wed'] \n",
    "\n",
    "SR = SkopeRules(max_depth_duplication=None,n_estimators=30,precision_min=0.2,recall_min=0.01,feature_names=feature_names)\n",
    "SR.fit(X_train,  Y_train)\n",
    "Y_pred = SR.predict(X_test)\n",
    "#Y_pred_proba = SR.predict_proba(X_test)[:,1]\n",
    "#calculating the metrics\n",
    "tn, fp, fn, tp = confusion_matrix(Y_test,Y_pred).ravel()\n",
    "cm4 = np.array([[tp,fp],[fn,tn]])\n",
    "score4 = cross_val_score(SR, X, Y, cv=10, scoring='accuracy')\n",
    "Acc4 = score4.mean()\n",
    "pre4 = 1.*tp/(tp+fp)\n",
    "rec4 =  1.*tp/(tp+fn)\n",
    "f1_4  =  2*((pre3*rec3)/(pre3+rec3))\n",
    "auc4 = 0\n",
    "#auc4 = roc_auc_score(Y_test,Y_pred_proba)\n",
    "costloss4 = cost_loss(Y_test,Y_pred,cost_mat_test)\n",
    "                \n",
    "#----------------------------------------Random Forest Classifier------------------------------------------------- \n",
    "RF = RandomForestClassifier()\n",
    "RF.fit(X_train,  Y_train)\n",
    "Y_pred = RF.predict(X_test)\n",
    "Y_pred_proba = RF.predict_proba(X_test)[:,1]\n",
    "#calculating the metrics\n",
    "tn, fp, fn, tp = confusion_matrix(Y_test,Y_pred).ravel()\n",
    "cm5 = np.array([[tp,fp],[fn,tn]])\n",
    "score5 = cross_val_score(RF, X, Y, cv=10, scoring='accuracy')\n",
    "Acc5 = score5.mean()\n",
    "pre5 =  1.*tp/(tp+fp)\n",
    "rec5 =  1.*tp/(tp+fn)\n",
    "f1_5  =  2*((pre4*rec4)/(pre4+rec4))\n",
    "auc5 = roc_auc_score(Y_test,Y_pred_proba)\n",
    "costloss5 = cost_loss(Y_test,Y_pred,cost_mat_test)\n",
    "\n"
   ]
  },
  {
   "cell_type": "code",
   "execution_count": 23,
   "metadata": {},
   "outputs": [
    {
     "data": {
      "text/html": [
       "<div>\n",
       "<style scoped>\n",
       "    .dataframe tbody tr th:only-of-type {\n",
       "        vertical-align: middle;\n",
       "    }\n",
       "\n",
       "    .dataframe tbody tr th {\n",
       "        vertical-align: top;\n",
       "    }\n",
       "\n",
       "    .dataframe thead th {\n",
       "        text-align: right;\n",
       "    }\n",
       "</style>\n",
       "<table border=\"1\" class=\"dataframe\">\n",
       "  <thead>\n",
       "    <tr style=\"text-align: right;\">\n",
       "      <th></th>\n",
       "      <th>Metric</th>\n",
       "      <th>LR_UB</th>\n",
       "      <th>DT_UB</th>\n",
       "      <th>SVM_UB</th>\n",
       "      <th>SR_UB</th>\n",
       "      <th>RF_UB</th>\n",
       "    </tr>\n",
       "  </thead>\n",
       "  <tbody>\n",
       "    <tr>\n",
       "      <th>0</th>\n",
       "      <td>confusion matrix</td>\n",
       "      <td>[[258, 122], [1171, 11070]]</td>\n",
       "      <td>[[424, 1115], [1005, 10077]]</td>\n",
       "      <td>[[264, 317], [1165, 10875]]</td>\n",
       "      <td>[[485, 420], [944, 10772]]</td>\n",
       "      <td>[[303, 310], [1126, 10882]]</td>\n",
       "    </tr>\n",
       "    <tr>\n",
       "      <th>1</th>\n",
       "      <td>Accuracy</td>\n",
       "      <td>0.824748</td>\n",
       "      <td>0.620559</td>\n",
       "      <td>0.784434</td>\n",
       "      <td>0.893573</td>\n",
       "      <td>0.7104</td>\n",
       "    </tr>\n",
       "    <tr>\n",
       "      <th>2</th>\n",
       "      <td>Precision</td>\n",
       "      <td>0.678947</td>\n",
       "      <td>0.275504</td>\n",
       "      <td>0.454389</td>\n",
       "      <td>0.535912</td>\n",
       "      <td>0.49429</td>\n",
       "    </tr>\n",
       "    <tr>\n",
       "      <th>3</th>\n",
       "      <td>Recall</td>\n",
       "      <td>0.180546</td>\n",
       "      <td>0.296711</td>\n",
       "      <td>0.184745</td>\n",
       "      <td>0.339398</td>\n",
       "      <td>0.212036</td>\n",
       "    </tr>\n",
       "    <tr>\n",
       "      <th>4</th>\n",
       "      <td>F1 Score</td>\n",
       "      <td>0.28524</td>\n",
       "      <td>0.285714</td>\n",
       "      <td>0.262687</td>\n",
       "      <td>0.262687</td>\n",
       "      <td>0.415596</td>\n",
       "    </tr>\n",
       "    <tr>\n",
       "      <th>5</th>\n",
       "      <td>auc</td>\n",
       "      <td>0.75962</td>\n",
       "      <td>0.602507</td>\n",
       "      <td>0.634868</td>\n",
       "      <td>0</td>\n",
       "      <td>0.712959</td>\n",
       "    </tr>\n",
       "    <tr>\n",
       "      <th>6</th>\n",
       "      <td>costloss</td>\n",
       "      <td>13003</td>\n",
       "      <td>12170</td>\n",
       "      <td>13132</td>\n",
       "      <td>10804</td>\n",
       "      <td>12696</td>\n",
       "    </tr>\n",
       "  </tbody>\n",
       "</table>\n",
       "</div>"
      ],
      "text/plain": [
       "             Metric                        LR_UB  \\\n",
       "0  confusion matrix  [[258, 122], [1171, 11070]]   \n",
       "1          Accuracy                     0.824748   \n",
       "2         Precision                     0.678947   \n",
       "3            Recall                     0.180546   \n",
       "4          F1 Score                      0.28524   \n",
       "5               auc                      0.75962   \n",
       "6          costloss                        13003   \n",
       "\n",
       "                          DT_UB                       SVM_UB  \\\n",
       "0  [[424, 1115], [1005, 10077]]  [[264, 317], [1165, 10875]]   \n",
       "1                      0.620559                     0.784434   \n",
       "2                      0.275504                     0.454389   \n",
       "3                      0.296711                     0.184745   \n",
       "4                      0.285714                     0.262687   \n",
       "5                      0.602507                     0.634868   \n",
       "6                         12170                        13132   \n",
       "\n",
       "                        SR_UB                        RF_UB  \n",
       "0  [[485, 420], [944, 10772]]  [[303, 310], [1126, 10882]]  \n",
       "1                    0.893573                       0.7104  \n",
       "2                    0.535912                      0.49429  \n",
       "3                    0.339398                     0.212036  \n",
       "4                    0.262687                     0.415596  \n",
       "5                           0                     0.712959  \n",
       "6                       10804                        12696  "
      ]
     },
     "execution_count": 23,
     "metadata": {},
     "output_type": "execute_result"
    }
   ],
   "source": [
    "UB = pd.DataFrame({\n",
    "    'Metric': ['confusion matrix','Accuracy', 'Precision', 'Recall', 'F1 Score','auc','costloss'],\n",
    "    'LR_UB': [cm1, Acc1, pre1, rec1, f1_1, auc1, costloss1],\n",
    "    'DT_UB' : [cm2, Acc2, pre2, rec2, f1_2, auc2, costloss2],\n",
    "    'SVM_UB' : [cm3, Acc3, pre3, rec3, f1_3, auc3, costloss3],\n",
    "    'SR_UB' : [cm4, Acc4, pre4, rec4, f1_4, auc4, costloss4],\n",
    "    'RF_UB': [cm5, Acc5, pre5, rec5, f1_5, auc5, costloss5]})\n",
    "UB "
   ]
  },
  {
   "cell_type": "markdown",
   "metadata": {},
   "source": [
    "#### 2. Cost sensitive learning - COSTCLA scikit learn package"
   ]
  },
  {
   "cell_type": "code",
   "execution_count": 24,
   "metadata": {},
   "outputs": [],
   "source": [
    "# --------------------------Cost sensitive Logistic Regression Classifier-----------------------------------------------\n",
    "LR_cclr = CostSensitiveLogisticRegression()\n",
    "LR_cclr.fit(np.array(X_train),  np.array(Y_train), cost_mat_train)\n",
    "Y_pred = LR_cclr.predict(X_test)\n",
    "Y_pred_proba = LR_cclr.predict_proba(X_test)[:,1]\n",
    "#calculating the metrics\n",
    "tn, fp, fn, tp = confusion_matrix(Y_test,Y_pred).ravel()\n",
    "cm1=np.array([[tp,fp],[fn,tn]])\n",
    "Acc1 = accuracy_score(Y_test,Y_pred)\n",
    "pre1 = 1.*tp/(tp+fp)\n",
    "rec1 = 1.*tp/(tp+fn)\n",
    "f1_1  = 2*((pre1*rec1)/(pre1+rec1))\n",
    "auc1 = roc_auc_score(Y_test,Y_pred_proba)\n",
    "costloss1 = cost_loss(Y_test,Y_pred,cost_mat_test)\n",
    "\n",
    "#-------------------------------Cost sensitive Decision tree classifier-------------------------------------------------\n",
    "DT_cclr = CostSensitiveDecisionTreeClassifier()\n",
    "DT_cclr.fit(np.array(X_train),  np.array(Y_train), cost_mat_train)\n",
    "Y_pred = DT_cclr.predict(np.array(X_test))\n",
    "Y_pred_proba = DT_cclr.predict_proba(np.array(X_test))[:,1]\n",
    "#calculating the metrics\n",
    "tn, fp, fn, tp = confusion_matrix(Y_test,Y_pred).ravel()\n",
    "cm2=np.array([[tp,fp],[fn,tn]])\n",
    "Acc2 = accuracy_score(Y_test,Y_pred)\n",
    "pre2 = 1.*tp/(tp+fp)\n",
    "rec2 =  1.*tp/(tp+fn)\n",
    "f1_2  = 2*((pre2*rec2)/(pre2+rec2))\n",
    "auc2 = roc_auc_score(Y_test,Y_pred_proba)\n",
    "costloss2 = cost_loss(Y_test,Y_pred,cost_mat_test)\n",
    "\n",
    "#--------------------------------Cost sensitive Support vector machine------------------------------------------------- \n",
    "SVM_cclr = SVC(kernel='linear', class_weight={1: 11},probability=True)\n",
    "SVM_cclr.fit(X_train,  Y_train )\n",
    "Y_pred = SVM_cclr.predict(X_test)\n",
    "Y_pred_proba = SVM_cclr.predict_proba(X_test)[:,1]\n",
    "#calculating the metrics\n",
    "tn, fp, fn, tp = confusion_matrix(Y_test,Y_pred).ravel()\n",
    "cm3 = np.array([[tp,fp],[fn,tn]])\n",
    "Acc3 = accuracy_score(Y_test,Y_pred)\n",
    "pre3 =1.*tp/(tp+fp)\n",
    "rec3 =  1.*tp/(tp+fn)\n",
    "f1_3  =  2*((pre3*rec3)/(pre3+rec3))\n",
    "auc3 = roc_auc_score(Y_test,Y_pred_proba)\n",
    "costloss3 = cost_loss(Y_test,Y_pred,cost_mat_test)\n",
    "\n",
    "#-------------------------------Cost sensitive Random Forest Classifier---------------------------------------------------- \n",
    "RF_cclr = CostSensitiveRandomForestClassifier()\n",
    "RF_cclr.fit(np.array(X_train),  np.array(Y_train), cost_mat_train)\n",
    "Y_pred = RF_cclr.predict(np.array(X_test))\n",
    "Y_pred_proba = RF_cclr.predict_proba(np.array(X_test))[:,1]\n",
    "#calculating the metrics\n",
    "tn, fp, fn, tp = confusion_matrix(Y_test,Y_pred).ravel()\n",
    "cm4 = np.array([[tp,fp],[fn,tn]])\n",
    "Acc4 = accuracy_score(Y_test,Y_pred)\n",
    "pre4 = 1.*tp/(tp+fp)\n",
    "rec4 =  1.*tp/(tp+fn)\n",
    "f1_4  =  2*((pre4*rec4)/(pre4+rec4))\n",
    "auc4 = roc_auc_score(Y_test,Y_pred_proba)\n",
    "costloss4 = cost_loss(Y_test,Y_pred,cost_mat_test)\n",
    "\n"
   ]
  },
  {
   "cell_type": "code",
   "execution_count": 25,
   "metadata": {},
   "outputs": [
    {
     "data": {
      "text/html": [
       "<div>\n",
       "<style scoped>\n",
       "    .dataframe tbody tr th:only-of-type {\n",
       "        vertical-align: middle;\n",
       "    }\n",
       "\n",
       "    .dataframe tbody tr th {\n",
       "        vertical-align: top;\n",
       "    }\n",
       "\n",
       "    .dataframe thead th {\n",
       "        text-align: right;\n",
       "    }\n",
       "</style>\n",
       "<table border=\"1\" class=\"dataframe\">\n",
       "  <thead>\n",
       "    <tr style=\"text-align: right;\">\n",
       "      <th></th>\n",
       "      <th>Metric</th>\n",
       "      <th>LR_CSCLR</th>\n",
       "      <th>DT_CSCLR</th>\n",
       "      <th>SVM_CSCLR</th>\n",
       "      <th>RF_CSCLR</th>\n",
       "    </tr>\n",
       "  </thead>\n",
       "  <tbody>\n",
       "    <tr>\n",
       "      <th>0</th>\n",
       "      <td>confusion matrix</td>\n",
       "      <td>[[1304, 10273], [125, 919]]</td>\n",
       "      <td>[[1167, 5611], [262, 5581]]</td>\n",
       "      <td>[[1032, 3946], [397, 7246]]</td>\n",
       "      <td>[[1239, 6512], [190, 4680]]</td>\n",
       "    </tr>\n",
       "    <tr>\n",
       "      <th>1</th>\n",
       "      <td>Accuracy</td>\n",
       "      <td>0.176135</td>\n",
       "      <td>0.534664</td>\n",
       "      <td>0.655891</td>\n",
       "      <td>0.46898</td>\n",
       "    </tr>\n",
       "    <tr>\n",
       "      <th>2</th>\n",
       "      <td>Precision</td>\n",
       "      <td>0.112637</td>\n",
       "      <td>0.172175</td>\n",
       "      <td>0.207312</td>\n",
       "      <td>0.15985</td>\n",
       "    </tr>\n",
       "    <tr>\n",
       "      <th>3</th>\n",
       "      <td>Recall</td>\n",
       "      <td>0.912526</td>\n",
       "      <td>0.816655</td>\n",
       "      <td>0.722183</td>\n",
       "      <td>0.86704</td>\n",
       "    </tr>\n",
       "    <tr>\n",
       "      <th>4</th>\n",
       "      <td>F1 Score</td>\n",
       "      <td>0.200523</td>\n",
       "      <td>0.284391</td>\n",
       "      <td>0.322148</td>\n",
       "      <td>0.269935</td>\n",
       "    </tr>\n",
       "    <tr>\n",
       "      <th>5</th>\n",
       "      <td>auc</td>\n",
       "      <td>0.534065</td>\n",
       "      <td>0.664934</td>\n",
       "      <td>0.761582</td>\n",
       "      <td>0.703992</td>\n",
       "    </tr>\n",
       "    <tr>\n",
       "      <th>6</th>\n",
       "      <td>costloss</td>\n",
       "      <td>11648</td>\n",
       "      <td>8493</td>\n",
       "      <td>8313</td>\n",
       "      <td>8602</td>\n",
       "    </tr>\n",
       "  </tbody>\n",
       "</table>\n",
       "</div>"
      ],
      "text/plain": [
       "             Metric                     LR_CSCLR                     DT_CSCLR  \\\n",
       "0  confusion matrix  [[1304, 10273], [125, 919]]  [[1167, 5611], [262, 5581]]   \n",
       "1          Accuracy                     0.176135                     0.534664   \n",
       "2         Precision                     0.112637                     0.172175   \n",
       "3            Recall                     0.912526                     0.816655   \n",
       "4          F1 Score                     0.200523                     0.284391   \n",
       "5               auc                     0.534065                     0.664934   \n",
       "6          costloss                        11648                         8493   \n",
       "\n",
       "                     SVM_CSCLR                     RF_CSCLR  \n",
       "0  [[1032, 3946], [397, 7246]]  [[1239, 6512], [190, 4680]]  \n",
       "1                     0.655891                      0.46898  \n",
       "2                     0.207312                      0.15985  \n",
       "3                     0.722183                      0.86704  \n",
       "4                     0.322148                     0.269935  \n",
       "5                     0.761582                     0.703992  \n",
       "6                         8313                         8602  "
      ]
     },
     "execution_count": 25,
     "metadata": {},
     "output_type": "execute_result"
    }
   ],
   "source": [
    "CSCLR = pd.DataFrame({\n",
    "    'Metric': ['confusion matrix','Accuracy', 'Precision', 'Recall', 'F1 Score','auc','costloss'],\n",
    "    'LR_CSCLR': [cm1, Acc1, pre1, rec1, f1_1, auc1, costloss1],\n",
    "    'DT_CSCLR' : [cm2, Acc2, pre2, rec2, f1_2, auc2, costloss2],\n",
    "    'SVM_CSCLR' : [cm3, Acc3, pre3, rec3, f1_3, auc3, costloss3],\n",
    "    'RF_CSCLR': [cm4, Acc4, pre4, rec4, f1_4, auc4, costloss4]})\n",
    "CSCLR"
   ]
  },
  {
   "cell_type": "markdown",
   "metadata": {},
   "source": [
    "#### 3. Imbalance Ensemble with different classifiers"
   ]
  },
  {
   "cell_type": "code",
   "execution_count": 26,
   "metadata": {},
   "outputs": [],
   "source": [
    "from imblearn.ensemble import BalancedBaggingClassifier\n",
    "\n",
    "#------------------------------Logistic Regression Classifier-----------------------------------\n",
    "bbc_lr = BalancedBaggingClassifier(base_estimator=LogisticRegression(),\n",
    "                                sampling_strategy='auto',\n",
    "                                replacement=False,\n",
    "                                random_state=0)\n",
    "\n",
    "bbc_lr.fit(X_train,  Y_train)\n",
    "Y_pred = bbc_lr.predict(X_test)\n",
    "Y_pred_proba = bbc_lr.predict_proba(X_test)[:,1]\n",
    "#calculating the metrics\n",
    "tn, fp, fn, tp = confusion_matrix(Y_test,Y_pred).ravel()\n",
    "cm1=np.array([[tp,fp],[fn,tn]])\n",
    "score1 = cross_val_score(bbc_lr, X, Y, cv=10, scoring='accuracy')\n",
    "Acc1 = score1.mean()\n",
    "pre1 = 1.*tp/(tp+fp)\n",
    "rec1 = 1.*tp/(tp+fn)\n",
    "f1_1  = 2*((pre1*rec1)/(pre1+rec1))\n",
    "auc1 = roc_auc_score(Y_test,Y_pred_proba)\n",
    "costloss1 = cost_loss(Y_test,Y_pred,cost_mat_test)\n",
    "\n",
    "#------------------------------Decision tree classifier------------------------------------------\n",
    "bbc_dt = BalancedBaggingClassifier(base_estimator=DecisionTreeClassifier(),\n",
    "                                sampling_strategy='auto',\n",
    "                                replacement=False,\n",
    "                                random_state=0)\n",
    "bbc_dt.fit(X_train,  Y_train)\n",
    "Y_pred =bbc_dt.predict(X_test)\n",
    "Y_pred_proba = bbc_dt.predict_proba(X_test)[:,1]\n",
    "#calculating the metrics\n",
    "tn, fp, fn, tp = confusion_matrix(Y_test,Y_pred).ravel()\n",
    "cm2=np.array([[tp,fp],[fn,tn]])\n",
    "score2 = cross_val_score(bbc_dt, X, Y, cv=10, scoring='accuracy')\n",
    "Acc2 = score2.mean()\n",
    "pre2 = 1.*tp/(tp+fp)\n",
    "rec2 = 1.*tp/(tp+fn)\n",
    "f1_2  = 2*((pre2*rec2)/(pre2+rec2))\n",
    "auc2 = roc_auc_score(Y_test,Y_pred_proba)\n",
    "costloss2 = cost_loss(Y_test,Y_pred,cost_mat_test)\n",
    "\n",
    "#---------------------------------Support vector machine------------------------------------------------ \n",
    "bbc_svm = BalancedBaggingClassifier(base_estimator=KNeighborsClassifier(n_neighbors=3),\n",
    "                                sampling_strategy='auto',\n",
    "                                replacement=False,\n",
    "                                random_state=0)\n",
    "bbc_svm.fit(X_train,  Y_train)\n",
    "Y_pred = bbc_svm.predict(X_test)\n",
    "Y_pred_proba = bbc_svm.predict_proba(X_test)[:,1]\n",
    "#calculating the metrics\n",
    "tn, fp, fn, tp = confusion_matrix(Y_test,Y_pred).ravel()\n",
    "cm3 = np.array([[tp,fp],[fn,tn]])\n",
    "score3 = cross_val_score(bbc_svm, X, Y, cv=10, scoring='accuracy')\n",
    "Acc3 = score3.mean()\n",
    "pre3 = 1.*tp/(tp+fp)\n",
    "rec3 =   1.*tp/(tp+fn)\n",
    "f1_3  =  2*((pre3*rec3)/(pre3+rec3))\n",
    "auc3 = roc_auc_score(Y_test,Y_pred_proba)\n",
    "costloss3 = cost_loss(Y_test,Y_pred,cost_mat_test)\n",
    "\n",
    "#----------------------------------------Skoperules Classifier-------------------------------------------------\n",
    "feature_names=['age', 'default', 'housing', 'loan', 'campaign', 'previous', 'poutcome','pdays_999', 'pdays_1_9', \n",
    "               'pdays_10_19','pdays_20_29', 'job_admin', 'job_blue_collar', 'job_entrepreneur','job_housemaid',\n",
    "               'job_management', 'job_retired', 'job_self_employed','job_services', 'job_student', 'job_technician',\n",
    "               'job_unemployed','marital_divorced', 'marital_married', 'marital_single','education_basic_4y',\n",
    "               'education_basic_6y', 'education_basic_9y','education_high_school', 'education_illiterate',\n",
    "               'education_professional_course', 'education_university_degree','contact_cellular', 'contact_telephone',\n",
    "               'month_apr', 'month_aug','month_dec', 'month_jul', 'month_jun', 'month_mar', 'month_may','month_nov',\n",
    "               'month_oct', 'month_sep', 'day_of_week_fri','day_of_week_mon', 'day_of_week_thu', 'day_of_week_tue',\n",
    "               'day_of_week_wed'] \n",
    "\n",
    "estimator = SkopeRules(max_depth_duplication=None,n_estimators=30,precision_min=0.2,recall_min=0.01,feature_names=feature_names)\n",
    "bbc_sr = BalancedBaggingClassifier(base_estimator=estimator, sampling_strategy='auto',replacement=False,random_state=0)\n",
    "bbc_sr.fit(X_train,  Y_train)\n",
    "Y_pred = bbc_sr.predict(X_test)\n",
    "#Y_pred_proba = SR.predict_proba(X_test)[:,1]\n",
    "#calculating the metrics\n",
    "tn, fp, fn, tp = confusion_matrix(Y_test,Y_pred).ravel()\n",
    "cm4 = np.array([[tp,fp],[fn,tn]])\n",
    "score4 = cross_val_score(bbc_sr, X, Y, cv=10, scoring='accuracy')\n",
    "Acc4 = score4.mean()\n",
    "pre4 = 1.*tp/(tp+fp)\n",
    "rec4 =  1.*tp/(tp+fn)\n",
    "f1_4  =  2*((pre3*rec3)/(pre3+rec3))\n",
    "auc4 = 0\n",
    "#auc4 = roc_auc_score(Y_test,Y_pred_proba)\n",
    "costloss4 = cost_loss(Y_test,Y_pred,cost_mat_test)\n",
    "\n",
    "#---------------------------------Random Forest Classifier------------------------------------------------ \n",
    "bbc_rf = BalancedBaggingClassifier(base_estimator=RandomForestClassifier(),\n",
    "                                sampling_strategy='auto',\n",
    "                                replacement=False,\n",
    "                                random_state=0)\n",
    "\n",
    "bbc_rf.fit(X_train,  Y_train)\n",
    "Y_pred = bbc_rf.predict(X_test)\n",
    "Y_pred_proba = bbc_rf.predict_proba(X_test)[:,1]\n",
    "#calculating the metrics\n",
    "tn, fp, fn, tp = confusion_matrix(Y_test,Y_pred).ravel()\n",
    "cm5 = np.array([[tp,fp],[fn,tn]])\n",
    "score5 = cross_val_score(bbc_rf, X, Y, cv=10, scoring='accuracy')\n",
    "Acc5 = score4.mean()\n",
    "pre5 = 1.*tp/(tp+fp)\n",
    "rec5 =  1.*tp/(tp+fn)\n",
    "f1_5  =  2*((pre4*rec4)/(pre4+rec4))\n",
    "auc5 = roc_auc_score(Y_test,Y_pred_proba)\n",
    "costloss5 = cost_loss(Y_test,Y_pred,cost_mat_test)\n",
    "\n"
   ]
  },
  {
   "cell_type": "code",
   "execution_count": 27,
   "metadata": {},
   "outputs": [
    {
     "data": {
      "text/html": [
       "<div>\n",
       "<style scoped>\n",
       "    .dataframe tbody tr th:only-of-type {\n",
       "        vertical-align: middle;\n",
       "    }\n",
       "\n",
       "    .dataframe tbody tr th {\n",
       "        vertical-align: top;\n",
       "    }\n",
       "\n",
       "    .dataframe thead th {\n",
       "        text-align: right;\n",
       "    }\n",
       "</style>\n",
       "<table border=\"1\" class=\"dataframe\">\n",
       "  <thead>\n",
       "    <tr style=\"text-align: right;\">\n",
       "      <th></th>\n",
       "      <th>Metric</th>\n",
       "      <th>LR_BBC</th>\n",
       "      <th>DT_BBC</th>\n",
       "      <th>SVM_BBC</th>\n",
       "      <th>SR_BBC</th>\n",
       "      <th>RF_BBC</th>\n",
       "    </tr>\n",
       "  </thead>\n",
       "  <tbody>\n",
       "    <tr>\n",
       "      <th>0</th>\n",
       "      <td>confusion matrix</td>\n",
       "      <td>[[803, 1817], [626, 9375]]</td>\n",
       "      <td>[[734, 1646], [695, 9546]]</td>\n",
       "      <td>[[779, 2779], [650, 8413]]</td>\n",
       "      <td>[[1429, 11192], [0, 0]]</td>\n",
       "      <td>[[808, 1659], [621, 9533]]</td>\n",
       "    </tr>\n",
       "    <tr>\n",
       "      <th>1</th>\n",
       "      <td>Accuracy</td>\n",
       "      <td>0.388067</td>\n",
       "      <td>0.464281</td>\n",
       "      <td>0.471395</td>\n",
       "      <td>0.180224</td>\n",
       "      <td>0.180224</td>\n",
       "    </tr>\n",
       "    <tr>\n",
       "      <th>2</th>\n",
       "      <td>Precision</td>\n",
       "      <td>0.306489</td>\n",
       "      <td>0.308403</td>\n",
       "      <td>0.218943</td>\n",
       "      <td>0.113224</td>\n",
       "      <td>0.327523</td>\n",
       "    </tr>\n",
       "    <tr>\n",
       "      <th>3</th>\n",
       "      <td>Recall</td>\n",
       "      <td>0.561931</td>\n",
       "      <td>0.513646</td>\n",
       "      <td>0.545136</td>\n",
       "      <td>1</td>\n",
       "      <td>0.56543</td>\n",
       "    </tr>\n",
       "    <tr>\n",
       "      <th>4</th>\n",
       "      <td>F1 Score</td>\n",
       "      <td>0.396641</td>\n",
       "      <td>0.385403</td>\n",
       "      <td>0.312412</td>\n",
       "      <td>0.312412</td>\n",
       "      <td>0.203416</td>\n",
       "    </tr>\n",
       "    <tr>\n",
       "      <th>5</th>\n",
       "      <td>auc</td>\n",
       "      <td>0.762036</td>\n",
       "      <td>0.728018</td>\n",
       "      <td>0.702617</td>\n",
       "      <td>0</td>\n",
       "      <td>0.759422</td>\n",
       "    </tr>\n",
       "    <tr>\n",
       "      <th>6</th>\n",
       "      <td>costloss</td>\n",
       "      <td>8703</td>\n",
       "      <td>9291</td>\n",
       "      <td>9929</td>\n",
       "      <td>11192</td>\n",
       "      <td>8490</td>\n",
       "    </tr>\n",
       "  </tbody>\n",
       "</table>\n",
       "</div>"
      ],
      "text/plain": [
       "             Metric                      LR_BBC                      DT_BBC  \\\n",
       "0  confusion matrix  [[803, 1817], [626, 9375]]  [[734, 1646], [695, 9546]]   \n",
       "1          Accuracy                    0.388067                    0.464281   \n",
       "2         Precision                    0.306489                    0.308403   \n",
       "3            Recall                    0.561931                    0.513646   \n",
       "4          F1 Score                    0.396641                    0.385403   \n",
       "5               auc                    0.762036                    0.728018   \n",
       "6          costloss                        8703                        9291   \n",
       "\n",
       "                      SVM_BBC                   SR_BBC  \\\n",
       "0  [[779, 2779], [650, 8413]]  [[1429, 11192], [0, 0]]   \n",
       "1                    0.471395                 0.180224   \n",
       "2                    0.218943                 0.113224   \n",
       "3                    0.545136                        1   \n",
       "4                    0.312412                 0.312412   \n",
       "5                    0.702617                        0   \n",
       "6                        9929                    11192   \n",
       "\n",
       "                       RF_BBC  \n",
       "0  [[808, 1659], [621, 9533]]  \n",
       "1                    0.180224  \n",
       "2                    0.327523  \n",
       "3                     0.56543  \n",
       "4                    0.203416  \n",
       "5                    0.759422  \n",
       "6                        8490  "
      ]
     },
     "execution_count": 27,
     "metadata": {},
     "output_type": "execute_result"
    }
   ],
   "source": [
    "BBC = pd.DataFrame({\n",
    "    'Metric': ['confusion matrix','Accuracy', 'Precision', 'Recall', 'F1 Score','auc','costloss'],\n",
    "    'LR_BBC': [cm1, Acc1, pre1, rec1, f1_1, auc1, costloss1],\n",
    "    'DT_BBC' : [cm2, Acc2, pre2, rec2, f1_2, auc2, costloss2],\n",
    "    'SVM_BBC' : [cm3, Acc3, pre3, rec3, f1_3, auc3, costloss3],\n",
    "    'SR_BBC' : [cm4, Acc4, pre4, rec4, f1_4, auc4, costloss4],\n",
    "    'RF_BBC': [cm5, Acc5, pre5, rec5, f1_5, auc5, costloss5]})\n",
    "BBC"
   ]
  },
  {
   "cell_type": "markdown",
   "metadata": {},
   "source": [
    "#### 4. Oversamplig using SMOTE  and training the new dataset with classifiers "
   ]
  },
  {
   "cell_type": "code",
   "execution_count": 28,
   "metadata": {},
   "outputs": [],
   "source": [
    "from imblearn.over_sampling import SMOTE\n",
    "bsmote1 = SMOTE(kind='borderline1')\n",
    "X_bs1, Y_bs1 = bsmote1.fit_sample(X, Y)\n",
    "X_bs1_train, X_bs1_test, Y_bs1_train, Y_bs1_test = train_test_split(X_bs1, Y_bs1, test_size=0.33, random_state=42)"
   ]
  },
  {
   "cell_type": "code",
   "execution_count": 29,
   "metadata": {},
   "outputs": [
    {
     "data": {
      "image/png": "[encoded data removed]",
      "text/plain": [
       "<Figure size 432x288 with 1 Axes>"
      ]
     },
     "metadata": {
      "needs_background": "light"
     },
     "output_type": "display_data"
    }
   ],
   "source": [
    "df_oversampling = pd.DataFrame(X_bs1)\n",
    "df_oversampling['client-response'] = Y_bs1\n",
    "df_oversampling['client-response'].value_counts().plot(kind='bar', title='Count (target)');"
   ]
  },
  {
   "cell_type": "code",
   "execution_count": 30,
   "metadata": {},
   "outputs": [],
   "source": [
    "#----------------------------Logistic Regression Classifier----------------------------------------------\n",
    "OS_LR = LogisticRegression()\n",
    "OS_LR.fit(X_bs1_train,  Y_bs1_train)\n",
    "Y_bs1_pred = OS_LR.predict(X_bs1_test)\n",
    "Y_pred_proba = OS_LR.predict_proba(X_bs1_test)[:,1]\n",
    "#calculating the metrics\n",
    "tn, fp, fn, tp = confusion_matrix(Y_bs1_test,Y_bs1_pred).ravel()\n",
    "cm1 = np.array([[tp,fp],[fn,tn]])\n",
    "score1 = cross_val_score(OS_LR,X_bs1, Y_bs1, cv=10, scoring='accuracy')\n",
    "Acc1 = score1.mean()\n",
    "pre1 = 1.*tp/(tp+fp)\n",
    "rec1 = 1.*tp/(tp+fn)\n",
    "f1_1  = 2*((pre1*rec1)/(pre1+rec1))\n",
    "auc1 = roc_auc_score(Y_bs1_test,Y_pred_proba)\n",
    "df_significance = pd.DataFrame(score1)\n",
    "fpr1, tpr1, thresholds1 = roc_curve(Y_bs1_test, Y_pred_proba)\n",
    "\n",
    "#-------------------------------Decision tree classifier----------------------------------------------\n",
    "OS_DT = DecisionTreeClassifier()\n",
    "OS_DT.fit(X_bs1_train,  Y_bs1_train)\n",
    "Y_bs1_pred = OS_DT.predict(X_bs1_test)\n",
    "Y_pred_proba = OS_DT.predict_proba(X_bs1_test)[:,1]\n",
    "#calculating the metrics\n",
    "tn, fp, fn, tp = confusion_matrix(Y_bs1_test,Y_bs1_pred).ravel()\n",
    "cm2=np.array([[tp,fp],[fn,tn]])\n",
    "score2 = cross_val_score(OS_DT, X_bs1, Y_bs1, cv=10, scoring='accuracy')\n",
    "Acc2 = score2.mean()\n",
    "pre2 = 1.*tp/(tp+fp)\n",
    "rec2 =  1.*tp/(tp+fn)\n",
    "f1_2  = 2*((pre2*rec2)/(pre2+rec2))\n",
    "auc2 = roc_auc_score(Y_bs1_test,Y_pred_proba)\n",
    "df_significance['decision tree'] = score2 \n",
    "fpr2, tpr2, thresholds2 = roc_curve(Y_bs1_test, Y_pred_proba)\n",
    "\n",
    "#-----------------------------Support vector machine---------------------------------------------------- \n",
    "OS_SVM = KNeighborsClassifier(n_neighbors=3)\n",
    "OS_SVM.fit(X_bs1_train,  Y_bs1_train)\n",
    "Y_bs1_pred = OS_SVM.predict(X_bs1_test)\n",
    "Y_pred_proba = OS_SVM.predict_proba(X_bs1_test)[:,1]\n",
    "#calculating the metrics\n",
    "tn, fp, fn, tp = confusion_matrix(Y_bs1_test,Y_bs1_pred).ravel()\n",
    "cm3 = np.array([[tp,fp],[fn,tn]])\n",
    "score3 = cross_val_score(OS_SVM, X_bs1, Y_bs1, cv=10, scoring='accuracy')\n",
    "Acc3 = score3.mean()\n",
    "pre3 = 1.*tp/(tp+fp)\n",
    "rec3 =   1.*tp/(tp+fn)\n",
    "f1_3  =  2*((pre3*rec3)/(pre3+rec3))\n",
    "auc3 = roc_auc_score(Y_bs1_test,Y_pred_proba)\n",
    "df_significance['Support vector machine'] = score3\n",
    "fpr3, tpr3, thresholds3 = roc_curve(Y_bs1_test, Y_pred_proba)\n",
    "\n",
    "#----------------------------------------Skoperules Classifier-------------------------------------------------\n",
    "feature_names=['age', 'default', 'housing', 'loan', 'campaign', 'previous', 'poutcome','pdays_999', 'pdays_1_9', \n",
    "               'pdays_10_19','pdays_20_29', 'job_admin', 'job_blue_collar', 'job_entrepreneur','job_housemaid',\n",
    "               'job_management', 'job_retired', 'job_self_employed','job_services', 'job_student', 'job_technician',\n",
    "               'job_unemployed','marital_divorced', 'marital_married', 'marital_single','education_basic_4y',\n",
    "               'education_basic_6y', 'education_basic_9y','education_high_school', 'education_illiterate',\n",
    "               'education_professional_course', 'education_university_degree','contact_cellular', 'contact_telephone',\n",
    "               'month_apr', 'month_aug','month_dec', 'month_jul', 'month_jun', 'month_mar', 'month_may','month_nov',\n",
    "               'month_oct', 'month_sep', 'day_of_week_fri','day_of_week_mon', 'day_of_week_thu', 'day_of_week_tue',\n",
    "               'day_of_week_wed'] \n",
    "\n",
    "OS_SR = SkopeRules(max_depth_duplication=None,n_estimators=30,precision_min=0.2,recall_min=0.01,feature_names=feature_names)\n",
    "OS_SR.fit(X_bs1_train,  Y_bs1_train)\n",
    "Y_pred = OS_SR.predict(X_bs1_test)\n",
    "#Y_pred_proba = SR.predict_proba(X_test)[:,1]\n",
    "#calculating the metrics\n",
    "tn, fp, fn, tp = confusion_matrix(Y_bs1_test,Y_pred).ravel()\n",
    "cm4 = np.array([[tp,fp],[fn,tn]])\n",
    "score4 = cross_val_score(OS_SR, X_bs1, Y_bs1, cv=10, scoring='accuracy')\n",
    "Acc4 = score4.mean()\n",
    "pre4 = 1.*tp/(tp+fp)\n",
    "rec4 =  1.*tp/(tp+fn)\n",
    "f1_4  =  2*((pre3*rec3)/(pre3+rec3))\n",
    "auc4 = 0\n",
    "#auc4 = roc_auc_score(Y_test,Y_pred_proba)\n",
    "df_significance['Scope rules'] = score4\n",
    "\n",
    "                \n",
    "#--------------------------Random Forest Classifier------------------------------------------------------- \n",
    "OS_RF = RandomForestClassifier()\n",
    "OS_RF.fit(X_bs1_train,  Y_bs1_train)\n",
    "Y_bs1_pred = OS_RF.predict(X_bs1_test)\n",
    "Y_pred_proba = OS_RF.predict_proba(X_bs1_test)[:,1]\n",
    "\n",
    "#calculating the metrics\n",
    "tn, fp, fn, tp = confusion_matrix(Y_bs1_test,Y_bs1_pred).ravel()\n",
    "cm5 = np.array([[tp,fp],[fn,tn]])\n",
    "score5 = cross_val_score(OS_RF, X_bs1, Y_bs1, cv=10, scoring='accuracy')\n",
    "Acc5 = score5.mean()\n",
    "pre5 = 1.*tp/(tp+fp)\n",
    "rec5 =  1.*tp/(tp+fn)\n",
    "f1_5  =  2*((pre4*rec4)/(pre4+rec4))\n",
    "auc5 = roc_auc_score(Y_bs1_test,Y_pred_proba)\n",
    "df_significance['Random forest'] = score5\n",
    "fpr5, tpr5, thresholds5 = roc_curve(Y_bs1_test, Y_pred_proba)\n",
    "\n"
   ]
  },
  {
   "cell_type": "code",
   "execution_count": 31,
   "metadata": {},
   "outputs": [
    {
     "data": {
      "text/html": [
       "<div>\n",
       "<style scoped>\n",
       "    .dataframe tbody tr th:only-of-type {\n",
       "        vertical-align: middle;\n",
       "    }\n",
       "\n",
       "    .dataframe tbody tr th {\n",
       "        vertical-align: top;\n",
       "    }\n",
       "\n",
       "    .dataframe thead th {\n",
       "        text-align: right;\n",
       "    }\n",
       "</style>\n",
       "<table border=\"1\" class=\"dataframe\">\n",
       "  <thead>\n",
       "    <tr style=\"text-align: right;\">\n",
       "      <th></th>\n",
       "      <th>Metric</th>\n",
       "      <th>LR_SMOTE</th>\n",
       "      <th>DT_SMOTE</th>\n",
       "      <th>SVM_SMOTE</th>\n",
       "      <th>SR_SMOTE</th>\n",
       "      <th>RF_SMOTE</th>\n",
       "    </tr>\n",
       "  </thead>\n",
       "  <tbody>\n",
       "    <tr>\n",
       "      <th>0</th>\n",
       "      <td>confusion matrix</td>\n",
       "      <td>[[7615, 2640], [3644, 8533]]</td>\n",
       "      <td>[[10175, 1157], [1084, 10016]]</td>\n",
       "      <td>[[10340, 2283], [919, 8890]]</td>\n",
       "      <td>[[10229, 6890], [1030, 4283]]</td>\n",
       "      <td>[[10251, 552], [1008, 10621]]</td>\n",
       "    </tr>\n",
       "    <tr>\n",
       "      <th>1</th>\n",
       "      <td>Accuracy</td>\n",
       "      <td>0.567152</td>\n",
       "      <td>0.781587</td>\n",
       "      <td>0.769052</td>\n",
       "      <td>0.477867</td>\n",
       "      <td>0.830502</td>\n",
       "    </tr>\n",
       "    <tr>\n",
       "      <th>2</th>\n",
       "      <td>Precision</td>\n",
       "      <td>0.742565</td>\n",
       "      <td>0.8979</td>\n",
       "      <td>0.81914</td>\n",
       "      <td>0.597523</td>\n",
       "      <td>0.948903</td>\n",
       "    </tr>\n",
       "    <tr>\n",
       "      <th>3</th>\n",
       "      <td>Recall</td>\n",
       "      <td>0.676348</td>\n",
       "      <td>0.903721</td>\n",
       "      <td>0.918376</td>\n",
       "      <td>0.908518</td>\n",
       "      <td>0.910472</td>\n",
       "    </tr>\n",
       "    <tr>\n",
       "      <th>4</th>\n",
       "      <td>F1 Score</td>\n",
       "      <td>0.707911</td>\n",
       "      <td>0.900801</td>\n",
       "      <td>0.865924</td>\n",
       "      <td>0.865924</td>\n",
       "      <td>0.720911</td>\n",
       "    </tr>\n",
       "    <tr>\n",
       "      <th>5</th>\n",
       "      <td>auc</td>\n",
       "      <td>0.798574</td>\n",
       "      <td>0.901921</td>\n",
       "      <td>0.911503</td>\n",
       "      <td>0</td>\n",
       "      <td>0.968928</td>\n",
       "    </tr>\n",
       "  </tbody>\n",
       "</table>\n",
       "</div>"
      ],
      "text/plain": [
       "             Metric                      LR_SMOTE  \\\n",
       "0  confusion matrix  [[7615, 2640], [3644, 8533]]   \n",
       "1          Accuracy                      0.567152   \n",
       "2         Precision                      0.742565   \n",
       "3            Recall                      0.676348   \n",
       "4          F1 Score                      0.707911   \n",
       "5               auc                      0.798574   \n",
       "\n",
       "                         DT_SMOTE                     SVM_SMOTE  \\\n",
       "0  [[10175, 1157], [1084, 10016]]  [[10340, 2283], [919, 8890]]   \n",
       "1                        0.781587                      0.769052   \n",
       "2                          0.8979                       0.81914   \n",
       "3                        0.903721                      0.918376   \n",
       "4                        0.900801                      0.865924   \n",
       "5                        0.901921                      0.911503   \n",
       "\n",
       "                        SR_SMOTE                       RF_SMOTE  \n",
       "0  [[10229, 6890], [1030, 4283]]  [[10251, 552], [1008, 10621]]  \n",
       "1                       0.477867                       0.830502  \n",
       "2                       0.597523                       0.948903  \n",
       "3                       0.908518                       0.910472  \n",
       "4                       0.865924                       0.720911  \n",
       "5                              0                       0.968928  "
      ]
     },
     "execution_count": 31,
     "metadata": {},
     "output_type": "execute_result"
    }
   ],
   "source": [
    "SMOTE_OS = pd.DataFrame({\n",
    "    'Metric': ['confusion matrix','Accuracy', 'Precision', 'Recall', 'F1 Score','auc'],\n",
    "    'LR_SMOTE': [cm1, Acc1, pre1, rec1, f1_1, auc1],\n",
    "    'DT_SMOTE' : [cm2, Acc2, pre2, rec2, f1_2, auc2],\n",
    "    'SVM_SMOTE' : [cm3, Acc3, pre3, rec3, f1_3, auc3],\n",
    "    'SR_SMOTE': [cm4, Acc4, pre4, rec4, f1_4, auc4],\n",
    "     'RF_SMOTE': [cm5, Acc5, pre5, rec5, f1_5, auc5]})\n",
    "SMOTE_OS"
   ]
  },
  {
   "cell_type": "markdown",
   "metadata": {},
   "source": [
    "**Inference :**\n",
    ">It can be seen that from the above results obtained by applying three sampling techiniques on five classifiers, Oversampling using SMOTE has better performance."
   ]
  },
  {
   "cell_type": "markdown",
   "metadata": {},
   "source": [
    "<a id='#4'></a>\n",
    "## 4. Feature Selection"
   ]
  },
  {
   "cell_type": "code",
   "execution_count": 32,
   "metadata": {},
   "outputs": [
    {
     "data": {
      "text/plain": [
       "(67974, 22)"
      ]
     },
     "execution_count": 32,
     "metadata": {},
     "output_type": "execute_result"
    }
   ],
   "source": [
    "from sklearn.decomposition import PCA\n",
    "#for oversampled data\n",
    "pca_smote = PCA(n_components=0.90)\n",
    "X_bs1_pca = pca_smote.fit_transform(X_bs1)\n",
    "X_bs1_pca.shape"
   ]
  },
  {
   "cell_type": "code",
   "execution_count": 33,
   "metadata": {},
   "outputs": [],
   "source": [
    "from sklearn.ensemble import ExtraTreesClassifier\n",
    "#Feature extraction\n",
    "pp=df_clean.drop(columns='client-response', axis=1)\n",
    "model = ExtraTreesClassifier(n_estimators=10)\n",
    "model.fit(X_bs1, Y_bs1)\n",
    "feature_importances_bs1 = pd.DataFrame(model.feature_importances_,index = pp.columns,columns=['importance']).sort_values('importance',ascending=False)"
   ]
  },
  {
   "cell_type": "code",
   "execution_count": 34,
   "metadata": {},
   "outputs": [
    {
     "name": "stdout",
     "output_type": "stream",
     "text": [
      "                             importance\n",
      "age                            0.098845\n",
      "campaign                       0.074225\n",
      "contact_telephone              0.045552\n",
      "contact_cellular               0.045250\n",
      "default                        0.041373\n",
      "month_may                      0.038517\n",
      "poutcome                       0.033172\n",
      "housing                        0.031443\n",
      "month_jun                      0.025545\n",
      "pdays_999                      0.023984\n",
      "month_apr                      0.023930\n",
      "day_of_week_mon                0.022481\n",
      "job_admin                      0.022039\n",
      "day_of_week_thu                0.021672\n",
      "day_of_week_fri                0.021607\n",
      "month_oct                      0.021368\n",
      "month_jul                      0.021181\n",
      "month_nov                      0.021116\n",
      "loan                           0.019880\n",
      "job_blue_collar                0.019833\n",
      "education_university_degree    0.019763\n",
      "previous                       0.019537\n"
     ]
    }
   ],
   "source": [
    "print (feature_importances_bs1 .nlargest(22, 'importance'))"
   ]
  },
  {
   "cell_type": "code",
   "execution_count": 35,
   "metadata": {},
   "outputs": [
    {
     "data": {
      "image/png": "[encoded data removed]",
      "text/plain": [
       "<Figure size 432x288 with 1 Axes>"
      ]
     },
     "metadata": {
      "needs_background": "light"
     },
     "output_type": "display_data"
    }
   ],
   "source": [
    "#Bagged decision trees like Random Forest and Extra Trees can be used to estimate the importance of features.\n",
    "feature_importances_bs1.nlargest(22, 'importance').plot(kind='barh')\n",
    "plt.savefig(\"feature importance.png\")\n",
    "plt.show()\n"
   ]
  },
  {
   "cell_type": "markdown",
   "metadata": {},
   "source": [
    "#### Over Sampling -SMOTE model evaluation with only important features obtained by extra tree classifier."
   ]
  },
  {
   "cell_type": "code",
   "execution_count": 36,
   "metadata": {},
   "outputs": [],
   "source": [
    "X_bs1_etc = pd.DataFrame(X_bs1)[[0,1,2,3,4,6,7,11,32,33,34,35,38,39,40,41,42,44,45,46,47,48]].copy()\n",
    "#dividing into train(67%) and test(33%) data\n",
    "X_bs1_etc_train, X_bs1_etc_test, Y_bs1_train, Y_bs1_test, = train_test_split(X_bs1_etc, Y_bs1, test_size=0.33, random_state=42)\n",
    "\n",
    "\n",
    "#----------------------------Logistic Regression Classifier----------------------------------------------\n",
    "OS_LR_ETC = LogisticRegression()\n",
    "OS_LR_ETC.fit(X_bs1_etc_train,  Y_bs1_train)\n",
    "Y_bs1_pred = OS_LR_ETC.predict(X_bs1_etc_test)\n",
    "Y_pred_proba = OS_LR_ETC.predict_proba(X_bs1_etc_test)[:,1]\n",
    "#calculating the metrics\n",
    "tn, fp, fn, tp = confusion_matrix(Y_bs1_test,Y_bs1_pred).ravel()\n",
    "cm1 = np.array([[tp,fp],[fn,tn]])\n",
    "score1 = cross_val_score(OS_LR_ETC, X_bs1_etc, Y_bs1, cv=10, scoring='accuracy')\n",
    "Acc1 = score1.mean()\n",
    "pre1 = 1.*tp/(tp+fp)\n",
    "rec1 = 1.*tp/(tp+fn)\n",
    "f1_1  = 2*((pre1*rec1)/(pre1+rec1))\n",
    "auc1 = roc_auc_score(Y_bs1_test,Y_pred_proba)\n",
    "results_c = []\n",
    "\n",
    "\n",
    "#-------------------------------Decision tree classifier----------------------------------------------\n",
    "OS_DT_ETC = DecisionTreeClassifier()\n",
    "OS_DT_ETC.fit(X_bs1_etc_train,  Y_bs1_train)\n",
    "Y_bs1_pred = OS_DT_ETC.predict(X_bs1_etc_test)\n",
    "Y_pred_proba = OS_DT_ETC.predict_proba(X_bs1_etc_test)[:,1]\n",
    "#calculating the metrics\n",
    "tn, fp, fn, tp = confusion_matrix(Y_bs1_test,Y_bs1_pred).ravel()\n",
    "cm2=np.array([[tp,fp],[fn,tn]])\n",
    "score2 = cross_val_score(OS_DT_ETC, X_bs1_etc, Y_bs1, cv=10, scoring='accuracy')\n",
    "Acc2 = score2.mean()\n",
    "pre2 = 1.*tp/(tp+fp)\n",
    "rec2 =  1.*tp/(tp+fn)\n",
    "f1_2  = 2*((pre2*rec2)/(pre2+rec2))\n",
    "auc2 = roc_auc_score(Y_bs1_test,Y_pred_proba)\n",
    "\n",
    "\n",
    "#-----------------------------Support vector machine---------------------------------------------------- \n",
    "OS_SVM_ETC = KNeighborsClassifier(n_neighbors=3)\n",
    "OS_SVM_ETC.fit(X_bs1_etc_train,  Y_bs1_train)\n",
    "Y_bs1_pred = OS_SVM_ETC.predict(X_bs1_etc_test)\n",
    "Y_pred_proba = OS_SVM_ETC.predict_proba(X_bs1_etc_test)[:,1]\n",
    "#calculating the metrics\n",
    "tn, fp, fn, tp = confusion_matrix(Y_bs1_test,Y_bs1_pred).ravel()\n",
    "cm3 = np.array([[tp,fp],[fn,tn]])\n",
    "score3 = cross_val_score(OS_SVM_ETC, X_bs1_etc, Y_bs1, cv=10, scoring='accuracy')\n",
    "Acc3 = score3.mean()\n",
    "pre3 = 1.*tp/(tp+fp)\n",
    "rec3 =   1.*tp/(tp+fn)\n",
    "f1_3  =  2*((pre3*rec3)/(pre3+rec3))\n",
    "auc3 = roc_auc_score(Y_bs1_test,Y_pred_proba)\n",
    "\n",
    "\n",
    "#----------------------------------------Skoperules Classifier-------------------------------------------------\n",
    "feature_names=['age','campaign','default','contact_telephone','contact_cellular','month_may','housing','month_jun',\n",
    "               'pdays_999','poutcome','month_apr','day_of_week_fri','day_of_week_mon','month_jul','pdays_1_9',\n",
    "               'month_aug','day_of_week_thu','day_of_week_wed','month_oct','loan','job_admin','day_of_week_tue']\n",
    "\n",
    "OS_SR_ETC = SkopeRules(max_depth_duplication=None,n_estimators=30,precision_min=0.2,recall_min=0.01,feature_names=feature_names)\n",
    "OS_SR_ETC.fit(X_bs1_etc_train,  Y_bs1_train)\n",
    "Y_pred = OS_SR_ETC.predict(X_bs1_etc_test)\n",
    "#Y_pred_proba = SR.predict_proba(X_test)[:,1]\n",
    "#calculating the metrics\n",
    "tn, fp, fn, tp = confusion_matrix(Y_bs1_test,Y_pred).ravel()\n",
    "cm4 = np.array([[tp,fp],[fn,tn]])\n",
    "score4 = cross_val_score(OS_SR_ETC, X_bs1_etc, Y_bs1, cv=10, scoring='accuracy')\n",
    "Acc4 = score4.mean()\n",
    "pre4 = 1.*tp/(tp+fp)\n",
    "rec4 =  1.*tp/(tp+fn)\n",
    "f1_4  =  2*((pre3*rec3)/(pre3+rec3))\n",
    "auc4 = 0\n",
    "#auc4 = roc_auc_score(Y_test,Y_pred_proba)\n",
    "\n",
    "                \n",
    "#--------------------------Random Forest Classifier------------------------------------------------------- \n",
    "OS_RF_ETC = RandomForestClassifier()\n",
    "OS_RF_ETC.fit(X_bs1_etc_train,  Y_bs1_train)\n",
    "Y_bs1_pred = OS_RF_ETC.predict(X_bs1_etc_test)\n",
    "Y_pred_proba = OS_RF_ETC.predict_proba(X_bs1_etc_test)[:,1]\n",
    "\n",
    "#calculating the metrics\n",
    "tn, fp, fn, tp = confusion_matrix(Y_bs1_test,Y_bs1_pred).ravel()\n",
    "cm5 = np.array([[tp,fp],[fn,tn]])\n",
    "score5 = cross_val_score(OS_RF_ETC, X_bs1_etc, Y_bs1, cv=10, scoring='accuracy')\n",
    "Acc5 = score5.mean()\n",
    "pre5 = 1.*tp/(tp+fp)\n",
    "rec5 =  1.*tp/(tp+fn)\n",
    "f1_5  =  2*((pre4*rec4)/(pre4+rec4))\n",
    "auc5 = roc_auc_score(Y_bs1_test,Y_pred_proba)\n",
    "\n",
    "\n"
   ]
  },
  {
   "cell_type": "code",
   "execution_count": 37,
   "metadata": {},
   "outputs": [
    {
     "data": {
      "text/html": [
       "<div>\n",
       "<style scoped>\n",
       "    .dataframe tbody tr th:only-of-type {\n",
       "        vertical-align: middle;\n",
       "    }\n",
       "\n",
       "    .dataframe tbody tr th {\n",
       "        vertical-align: top;\n",
       "    }\n",
       "\n",
       "    .dataframe thead th {\n",
       "        text-align: right;\n",
       "    }\n",
       "</style>\n",
       "<table border=\"1\" class=\"dataframe\">\n",
       "  <thead>\n",
       "    <tr style=\"text-align: right;\">\n",
       "      <th></th>\n",
       "      <th>Metric</th>\n",
       "      <th>LR_SMOTE</th>\n",
       "      <th>DT_SMOTE</th>\n",
       "      <th>SVM_SMOTE</th>\n",
       "      <th>SR_SMOTE</th>\n",
       "      <th>RF_SMOTE</th>\n",
       "    </tr>\n",
       "  </thead>\n",
       "  <tbody>\n",
       "    <tr>\n",
       "      <th>0</th>\n",
       "      <td>confusion matrix</td>\n",
       "      <td>[[7757, 3135], [3502, 8038]]</td>\n",
       "      <td>[[9901, 1007], [1358, 10166]]</td>\n",
       "      <td>[[9468, 1482], [1791, 9691]]</td>\n",
       "      <td>[[10224, 6884], [1035, 4289]]</td>\n",
       "      <td>[[9955, 801], [1304, 10372]]</td>\n",
       "    </tr>\n",
       "    <tr>\n",
       "      <th>1</th>\n",
       "      <td>Accuracy</td>\n",
       "      <td>0.558664</td>\n",
       "      <td>0.780895</td>\n",
       "      <td>0.732184</td>\n",
       "      <td>0.481412</td>\n",
       "      <td>0.791899</td>\n",
       "    </tr>\n",
       "    <tr>\n",
       "      <th>2</th>\n",
       "      <td>Precision</td>\n",
       "      <td>0.712174</td>\n",
       "      <td>0.907682</td>\n",
       "      <td>0.864658</td>\n",
       "      <td>0.597615</td>\n",
       "      <td>0.92553</td>\n",
       "    </tr>\n",
       "    <tr>\n",
       "      <th>3</th>\n",
       "      <td>Recall</td>\n",
       "      <td>0.68896</td>\n",
       "      <td>0.879385</td>\n",
       "      <td>0.840927</td>\n",
       "      <td>0.908074</td>\n",
       "      <td>0.884182</td>\n",
       "    </tr>\n",
       "    <tr>\n",
       "      <th>4</th>\n",
       "      <td>F1 Score</td>\n",
       "      <td>0.700375</td>\n",
       "      <td>0.89331</td>\n",
       "      <td>0.852627</td>\n",
       "      <td>0.852627</td>\n",
       "      <td>0.720838</td>\n",
       "    </tr>\n",
       "    <tr>\n",
       "      <th>5</th>\n",
       "      <td>auc</td>\n",
       "      <td>0.784884</td>\n",
       "      <td>0.89983</td>\n",
       "      <td>0.907492</td>\n",
       "      <td>0</td>\n",
       "      <td>0.951494</td>\n",
       "    </tr>\n",
       "  </tbody>\n",
       "</table>\n",
       "</div>"
      ],
      "text/plain": [
       "             Metric                      LR_SMOTE  \\\n",
       "0  confusion matrix  [[7757, 3135], [3502, 8038]]   \n",
       "1          Accuracy                      0.558664   \n",
       "2         Precision                      0.712174   \n",
       "3            Recall                       0.68896   \n",
       "4          F1 Score                      0.700375   \n",
       "5               auc                      0.784884   \n",
       "\n",
       "                        DT_SMOTE                     SVM_SMOTE  \\\n",
       "0  [[9901, 1007], [1358, 10166]]  [[9468, 1482], [1791, 9691]]   \n",
       "1                       0.780895                      0.732184   \n",
       "2                       0.907682                      0.864658   \n",
       "3                       0.879385                      0.840927   \n",
       "4                        0.89331                      0.852627   \n",
       "5                        0.89983                      0.907492   \n",
       "\n",
       "                        SR_SMOTE                      RF_SMOTE  \n",
       "0  [[10224, 6884], [1035, 4289]]  [[9955, 801], [1304, 10372]]  \n",
       "1                       0.481412                      0.791899  \n",
       "2                       0.597615                       0.92553  \n",
       "3                       0.908074                      0.884182  \n",
       "4                       0.852627                      0.720838  \n",
       "5                              0                      0.951494  "
      ]
     },
     "execution_count": 37,
     "metadata": {},
     "output_type": "execute_result"
    }
   ],
   "source": [
    "SMOTE_OS_ETC = pd.DataFrame({\n",
    "    'Metric': ['confusion matrix','Accuracy', 'Precision', 'Recall', 'F1 Score','auc'],\n",
    "    'LR_SMOTE': [cm1, Acc1, pre1, rec1, f1_1, auc1],\n",
    "    'DT_SMOTE' : [cm2, Acc2, pre2, rec2, f1_2, auc2],\n",
    "    'SVM_SMOTE' : [cm3, Acc3, pre3, rec3, f1_3, auc3],\n",
    "    'SR_SMOTE': [cm4, Acc4, pre4, rec4, f1_4, auc4],\n",
    "     'RF_SMOTE': [cm5, Acc5, pre5, rec5, f1_5, auc5]})\n",
    "SMOTE_OS_ETC"
   ]
  },
  {
   "cell_type": "markdown",
   "metadata": {},
   "source": [
    "- It has been observed that similar accuracy scores can be acheived by just using features enough to capture 90% of the variance.  \n",
    "- Using PCA and extra tree classifier it is  found that only 24 features out of 55 features are needed to capture 90% of the variance.\n",
    "- Therefore using PCA and extra tree classifier,the number of features used drastically can be reduced(hence reduce the computational resources used and time taken to train) and still obtain the same accuracy. \n",
    " "
   ]
  },
  {
   "cell_type": "code",
   "execution_count": 38,
   "metadata": {},
   "outputs": [
    {
     "data": {
      "text/html": [
       "<div>\n",
       "<style scoped>\n",
       "    .dataframe tbody tr th:only-of-type {\n",
       "        vertical-align: middle;\n",
       "    }\n",
       "\n",
       "    .dataframe tbody tr th {\n",
       "        vertical-align: top;\n",
       "    }\n",
       "\n",
       "    .dataframe thead th {\n",
       "        text-align: right;\n",
       "    }\n",
       "</style>\n",
       "<table border=\"1\" class=\"dataframe\">\n",
       "  <thead>\n",
       "    <tr style=\"text-align: right;\">\n",
       "      <th></th>\n",
       "      <th>LR</th>\n",
       "      <th>decision tree</th>\n",
       "      <th>Support vector machine</th>\n",
       "      <th>Scope rules</th>\n",
       "      <th>Random forest</th>\n",
       "    </tr>\n",
       "  </thead>\n",
       "  <tbody>\n",
       "    <tr>\n",
       "      <th>0</th>\n",
       "      <td>0.765078</td>\n",
       "      <td>0.627538</td>\n",
       "      <td>0.810533</td>\n",
       "      <td>0.030744</td>\n",
       "      <td>0.647396</td>\n",
       "    </tr>\n",
       "    <tr>\n",
       "      <th>1</th>\n",
       "      <td>0.853928</td>\n",
       "      <td>0.888350</td>\n",
       "      <td>0.921889</td>\n",
       "      <td>0.090321</td>\n",
       "      <td>0.937629</td>\n",
       "    </tr>\n",
       "    <tr>\n",
       "      <th>2</th>\n",
       "      <td>0.456899</td>\n",
       "      <td>0.791409</td>\n",
       "      <td>0.749044</td>\n",
       "      <td>0.130332</td>\n",
       "      <td>0.838188</td>\n",
       "    </tr>\n",
       "    <tr>\n",
       "      <th>3</th>\n",
       "      <td>0.602530</td>\n",
       "      <td>0.890703</td>\n",
       "      <td>0.833333</td>\n",
       "      <td>0.146808</td>\n",
       "      <td>0.952927</td>\n",
       "    </tr>\n",
       "    <tr>\n",
       "      <th>4</th>\n",
       "      <td>0.581642</td>\n",
       "      <td>0.894822</td>\n",
       "      <td>0.828626</td>\n",
       "      <td>0.168457</td>\n",
       "      <td>0.955428</td>\n",
       "    </tr>\n",
       "    <tr>\n",
       "      <th>5</th>\n",
       "      <td>0.437187</td>\n",
       "      <td>0.840100</td>\n",
       "      <td>0.762430</td>\n",
       "      <td>0.655289</td>\n",
       "      <td>0.910121</td>\n",
       "    </tr>\n",
       "    <tr>\n",
       "      <th>6</th>\n",
       "      <td>0.493675</td>\n",
       "      <td>0.738600</td>\n",
       "      <td>0.699912</td>\n",
       "      <td>0.896866</td>\n",
       "      <td>0.807296</td>\n",
       "    </tr>\n",
       "    <tr>\n",
       "      <th>7</th>\n",
       "      <td>0.475574</td>\n",
       "      <td>0.655827</td>\n",
       "      <td>0.649941</td>\n",
       "      <td>0.888480</td>\n",
       "      <td>0.662007</td>\n",
       "    </tr>\n",
       "    <tr>\n",
       "      <th>8</th>\n",
       "      <td>0.490288</td>\n",
       "      <td>0.781783</td>\n",
       "      <td>0.728075</td>\n",
       "      <td>0.878623</td>\n",
       "      <td>0.864479</td>\n",
       "    </tr>\n",
       "    <tr>\n",
       "      <th>9</th>\n",
       "      <td>0.514715</td>\n",
       "      <td>0.706739</td>\n",
       "      <td>0.706739</td>\n",
       "      <td>0.892747</td>\n",
       "      <td>0.729547</td>\n",
       "    </tr>\n",
       "  </tbody>\n",
       "</table>\n",
       "</div>"
      ],
      "text/plain": [
       "         LR  decision tree  Support vector machine  Scope rules  Random forest\n",
       "0  0.765078       0.627538                0.810533     0.030744       0.647396\n",
       "1  0.853928       0.888350                0.921889     0.090321       0.937629\n",
       "2  0.456899       0.791409                0.749044     0.130332       0.838188\n",
       "3  0.602530       0.890703                0.833333     0.146808       0.952927\n",
       "4  0.581642       0.894822                0.828626     0.168457       0.955428\n",
       "5  0.437187       0.840100                0.762430     0.655289       0.910121\n",
       "6  0.493675       0.738600                0.699912     0.896866       0.807296\n",
       "7  0.475574       0.655827                0.649941     0.888480       0.662007\n",
       "8  0.490288       0.781783                0.728075     0.878623       0.864479\n",
       "9  0.514715       0.706739                0.706739     0.892747       0.729547"
      ]
     },
     "execution_count": 38,
     "metadata": {},
     "output_type": "execute_result"
    }
   ],
   "source": [
    "df_significance.rename(columns={0:'LR'},inplace=True)\n",
    "df_significance"
   ]
  },
  {
   "cell_type": "markdown",
   "metadata": {},
   "source": [
    "<a id='#5'></a>\n",
    "## 5. Statistical Significance"
   ]
  },
  {
   "cell_type": "code",
   "execution_count": 39,
   "metadata": {},
   "outputs": [
    {
     "data": {
      "image/png": "[encoded data removed]",
      "text/plain": [
       "<Figure size 720x720 with 6 Axes>"
      ]
     },
     "metadata": {
      "needs_background": "light"
     },
     "output_type": "display_data"
    }
   ],
   "source": [
    "header = ['LR','decision tree','Support vector machine','Scope rules','Random forest']\n",
    "df_significance.hist(figsize=(10,10))\n",
    "plt.subplots_adjust(wspace = 0.5, hspace = 0.5)\n",
    "plt.savefig(\"significance.png\")\n",
    "plt.show()\n"
   ]
  },
  {
   "cell_type": "code",
   "execution_count": 40,
   "metadata": {},
   "outputs": [],
   "source": [
    "# A function to print the results\n",
    "def statistical_significance (stat,p):\n",
    "    print(\"Statistics : \",stat)\n",
    "    print(\"p-value : \", p )\n",
    "    if (p < 0.05):\n",
    "        print(\"Null hypothesis is rejected and there is statistically significant difference\\n\")\n",
    "    else:\n",
    "        print(\"Null hypothesis is accepted and there is no statistically significant difference\\n\")\n",
    "    pass"
   ]
  },
  {
   "cell_type": "code",
   "execution_count": 41,
   "metadata": {},
   "outputs": [
    {
     "name": "stdout",
     "output_type": "stream",
     "text": [
      "Wilcoxon signed-rank test for Logistic Regression and decision tree classifier\n",
      "Statistics :  2.0\n",
      "p-value :  0.009344113002204883\n",
      "Null hypothesis is rejected and there is statistically significant difference\n",
      "\n",
      "Wilcoxon signed-rank test for Logistic Regression and Support vector machine\n",
      "Statistics :  0.0\n",
      "p-value :  0.005062032126267864\n",
      "Null hypothesis is rejected and there is statistically significant difference\n",
      "\n",
      "Wilcoxon signed-rank test for Logistic Regression and Scope rules\n",
      "Statistics :  19.0\n",
      "p-value :  0.3862707203664827\n",
      "Null hypothesis is accepted and there is no statistically significant difference\n",
      "\n",
      "Wilcoxon signed-rank test for Logistic Regression and Random forest\n",
      "Statistics :  2.0\n",
      "p-value :  0.009344113002204883\n",
      "Null hypothesis is rejected and there is statistically significant difference\n",
      "\n",
      "Wilcoxon signed-rank test for decision tree and Support vector machine\n",
      "Statistics :  11.0\n",
      "p-value :  0.1730709208049953\n",
      "Null hypothesis is accepted and there is no statistically significant difference\n",
      "\n",
      "Wilcoxon signed-rank test for decision tree and Scope rules\n",
      "Statistics :  12.0\n",
      "p-value :  0.11412832776223863\n",
      "Null hypothesis is accepted and there is no statistically significant difference\n",
      "\n",
      "Wilcoxon signed-rank test for decision tree and Random forest\n",
      "Statistics :  0.0\n",
      "p-value :  0.005062032126267864\n",
      "Null hypothesis is rejected and there is statistically significant difference\n",
      "\n",
      "Wilcoxon signed-rank test for Support vector machine and Scope rules\n",
      "Statistics :  14.0\n",
      "p-value :  0.1688069535565081\n",
      "Null hypothesis is accepted and there is no statistically significant difference\n",
      "\n",
      "Wilcoxon signed-rank test for Support vector machine and Random forest\n",
      "Statistics :  10.0\n",
      "p-value :  0.07446183141740546\n",
      "Null hypothesis is accepted and there is no statistically significant difference\n",
      "\n",
      "Wilcoxon signed-rank test for Scope rules and Random forest\n",
      "Statistics :  10.0\n",
      "p-value :  0.07446183141740546\n",
      "Null hypothesis is accepted and there is no statistically significant difference\n",
      "\n"
     ]
    },
    {
     "name": "stderr",
     "output_type": "stream",
     "text": [
      "C:\\Users\\ganip\\Anaconda3\\lib\\site-packages\\scipy\\stats\\morestats.py:2778: UserWarning: Warning: sample size too small for normal approximation.\n",
      "  warnings.warn(\"Warning: sample size too small for normal approximation.\")\n"
     ]
    }
   ],
   "source": [
    "from scipy.stats import wilcoxon\n",
    "\n",
    "print (\"Wilcoxon signed-rank test for Logistic Regression and decision tree classifier\")\n",
    "one,two = wilcoxon(df_significance['LR'], df_significance['decision tree'])\n",
    "statistical_significance (one,two)\n",
    "\n",
    "print (\"Wilcoxon signed-rank test for Logistic Regression and Support vector machine\")\n",
    "one,two = wilcoxon(df_significance['LR'], df_significance['Support vector machine'])\n",
    "statistical_significance (one,two)\n",
    "\n",
    "print (\"Wilcoxon signed-rank test for Logistic Regression and Scope rules\")\n",
    "one,two = wilcoxon(df_significance['LR'], df_significance['Scope rules'])\n",
    "statistical_significance (one,two)\n",
    "\n",
    "print (\"Wilcoxon signed-rank test for Logistic Regression and Random forest\")\n",
    "one,two = wilcoxon(df_significance['LR'], df_significance['Random forest'])\n",
    "statistical_significance (one,two)\n",
    "\n",
    "print (\"Wilcoxon signed-rank test for decision tree and Support vector machine\")\n",
    "one,two = wilcoxon(df_significance['decision tree'], df_significance['Support vector machine'])\n",
    "statistical_significance (one,two)\n",
    "\n",
    "print (\"Wilcoxon signed-rank test for decision tree and Scope rules\")\n",
    "one,two = wilcoxon(df_significance['decision tree' ], df_significance['Scope rules'])\n",
    "statistical_significance (one,two)\n",
    "\n",
    "print (\"Wilcoxon signed-rank test for decision tree and Random forest\")\n",
    "one,two = wilcoxon(df_significance['decision tree' ], df_significance['Random forest'])\n",
    "statistical_significance (one,two)\n",
    "\n",
    "print (\"Wilcoxon signed-rank test for Support vector machine and Scope rules\")\n",
    "one,two = wilcoxon(df_significance['Support vector machine'], df_significance['Scope rules'])\n",
    "statistical_significance (one,two)\n",
    "\n",
    "print (\"Wilcoxon signed-rank test for Support vector machine and Random forest\")\n",
    "one,two = wilcoxon(df_significance['Support vector machine'], df_significance['Random forest'])\n",
    "statistical_significance (one,two)\n",
    "\n",
    "print (\"Wilcoxon signed-rank test for Scope rules and Random forest\")\n",
    "one,two = wilcoxon(df_significance['Scope rules'], df_significance['Random forest'])\n",
    "statistical_significance (one,two)"
   ]
  },
  {
   "cell_type": "markdown",
   "metadata": {},
   "source": [
    "**Since the above 10 fold accuracies for each classifier are not normally distributed we use non parametric test which is Wilcoxon signed-rank test**\n",
    "\n",
    "##### There is statistically significant difference between decision tree and Random forest, Logistic Regression and Random forest, Logistic Regression and Support vector machine, Logistic Regression and decision tree classifier"
   ]
  },
  {
   "cell_type": "markdown",
   "metadata": {},
   "source": [
    "<a id='#6'></a>\n",
    "## 6. Model evaluation"
   ]
  },
  {
   "cell_type": "markdown",
   "metadata": {},
   "source": [
    "### Evaluating three balancing approaches"
   ]
  },
  {
   "cell_type": "code",
   "execution_count": 42,
   "metadata": {},
   "outputs": [],
   "source": [
    "CSCLR1 = CSCLR.T\n",
    "BBC1 = BBC.T\n",
    "SMOTE_OS1 = SMOTE_OS.T\n",
    "frames = [CSCLR1, BBC1, SMOTE_OS1]\n",
    "result1 = pd.concat(frames)\n",
    "result1.drop(['Metric'],axis=0,inplace=True)"
   ]
  },
  {
   "cell_type": "code",
   "execution_count": 43,
   "metadata": {
    "scrolled": true
   },
   "outputs": [
    {
     "data": {
      "text/html": [
       "<div>\n",
       "<style scoped>\n",
       "    .dataframe tbody tr th:only-of-type {\n",
       "        vertical-align: middle;\n",
       "    }\n",
       "\n",
       "    .dataframe tbody tr th {\n",
       "        vertical-align: top;\n",
       "    }\n",
       "\n",
       "    .dataframe thead th {\n",
       "        text-align: right;\n",
       "    }\n",
       "</style>\n",
       "<table border=\"1\" class=\"dataframe\">\n",
       "  <thead>\n",
       "    <tr style=\"text-align: right;\">\n",
       "      <th></th>\n",
       "      <th>confusion matrix</th>\n",
       "      <th>Accuracy</th>\n",
       "      <th>Precision</th>\n",
       "      <th>Recall</th>\n",
       "      <th>F1 Score</th>\n",
       "      <th>auc</th>\n",
       "      <th>costloss</th>\n",
       "    </tr>\n",
       "  </thead>\n",
       "  <tbody>\n",
       "    <tr>\n",
       "      <th>LR_CSCLR</th>\n",
       "      <td>[[1304, 10273], [125, 919]]</td>\n",
       "      <td>0.176135</td>\n",
       "      <td>0.112637</td>\n",
       "      <td>0.912526</td>\n",
       "      <td>0.200523</td>\n",
       "      <td>0.534065</td>\n",
       "      <td>11648.0</td>\n",
       "    </tr>\n",
       "    <tr>\n",
       "      <th>DT_CSCLR</th>\n",
       "      <td>[[1167, 5611], [262, 5581]]</td>\n",
       "      <td>0.534664</td>\n",
       "      <td>0.172175</td>\n",
       "      <td>0.816655</td>\n",
       "      <td>0.284391</td>\n",
       "      <td>0.664934</td>\n",
       "      <td>8493.0</td>\n",
       "    </tr>\n",
       "    <tr>\n",
       "      <th>SVM_CSCLR</th>\n",
       "      <td>[[1032, 3946], [397, 7246]]</td>\n",
       "      <td>0.655891</td>\n",
       "      <td>0.207312</td>\n",
       "      <td>0.722183</td>\n",
       "      <td>0.322148</td>\n",
       "      <td>0.761582</td>\n",
       "      <td>8313.0</td>\n",
       "    </tr>\n",
       "    <tr>\n",
       "      <th>RF_CSCLR</th>\n",
       "      <td>[[1239, 6512], [190, 4680]]</td>\n",
       "      <td>0.468980</td>\n",
       "      <td>0.159850</td>\n",
       "      <td>0.867040</td>\n",
       "      <td>0.269935</td>\n",
       "      <td>0.703992</td>\n",
       "      <td>8602.0</td>\n",
       "    </tr>\n",
       "    <tr>\n",
       "      <th>LR_BBC</th>\n",
       "      <td>[[803, 1817], [626, 9375]]</td>\n",
       "      <td>0.388067</td>\n",
       "      <td>0.306489</td>\n",
       "      <td>0.561931</td>\n",
       "      <td>0.396641</td>\n",
       "      <td>0.762036</td>\n",
       "      <td>8703.0</td>\n",
       "    </tr>\n",
       "    <tr>\n",
       "      <th>DT_BBC</th>\n",
       "      <td>[[734, 1646], [695, 9546]]</td>\n",
       "      <td>0.464281</td>\n",
       "      <td>0.308403</td>\n",
       "      <td>0.513646</td>\n",
       "      <td>0.385403</td>\n",
       "      <td>0.728018</td>\n",
       "      <td>9291.0</td>\n",
       "    </tr>\n",
       "    <tr>\n",
       "      <th>SVM_BBC</th>\n",
       "      <td>[[779, 2779], [650, 8413]]</td>\n",
       "      <td>0.471395</td>\n",
       "      <td>0.218943</td>\n",
       "      <td>0.545136</td>\n",
       "      <td>0.312412</td>\n",
       "      <td>0.702617</td>\n",
       "      <td>9929.0</td>\n",
       "    </tr>\n",
       "    <tr>\n",
       "      <th>SR_BBC</th>\n",
       "      <td>[[1429, 11192], [0, 0]]</td>\n",
       "      <td>0.180224</td>\n",
       "      <td>0.113224</td>\n",
       "      <td>1.000000</td>\n",
       "      <td>0.312412</td>\n",
       "      <td>0.000000</td>\n",
       "      <td>11192.0</td>\n",
       "    </tr>\n",
       "    <tr>\n",
       "      <th>RF_BBC</th>\n",
       "      <td>[[808, 1659], [621, 9533]]</td>\n",
       "      <td>0.180224</td>\n",
       "      <td>0.327523</td>\n",
       "      <td>0.565430</td>\n",
       "      <td>0.203416</td>\n",
       "      <td>0.759422</td>\n",
       "      <td>8490.0</td>\n",
       "    </tr>\n",
       "    <tr>\n",
       "      <th>LR_SMOTE</th>\n",
       "      <td>[[7615, 2640], [3644, 8533]]</td>\n",
       "      <td>0.567152</td>\n",
       "      <td>0.742565</td>\n",
       "      <td>0.676348</td>\n",
       "      <td>0.707911</td>\n",
       "      <td>0.798574</td>\n",
       "      <td>0.0</td>\n",
       "    </tr>\n",
       "    <tr>\n",
       "      <th>DT_SMOTE</th>\n",
       "      <td>[[10175, 1157], [1084, 10016]]</td>\n",
       "      <td>0.781587</td>\n",
       "      <td>0.897900</td>\n",
       "      <td>0.903721</td>\n",
       "      <td>0.900801</td>\n",
       "      <td>0.901921</td>\n",
       "      <td>0.0</td>\n",
       "    </tr>\n",
       "    <tr>\n",
       "      <th>SVM_SMOTE</th>\n",
       "      <td>[[10340, 2283], [919, 8890]]</td>\n",
       "      <td>0.769052</td>\n",
       "      <td>0.819140</td>\n",
       "      <td>0.918376</td>\n",
       "      <td>0.865924</td>\n",
       "      <td>0.911503</td>\n",
       "      <td>0.0</td>\n",
       "    </tr>\n",
       "    <tr>\n",
       "      <th>SR_SMOTE</th>\n",
       "      <td>[[10229, 6890], [1030, 4283]]</td>\n",
       "      <td>0.477867</td>\n",
       "      <td>0.597523</td>\n",
       "      <td>0.908518</td>\n",
       "      <td>0.865924</td>\n",
       "      <td>0.000000</td>\n",
       "      <td>0.0</td>\n",
       "    </tr>\n",
       "    <tr>\n",
       "      <th>RF_SMOTE</th>\n",
       "      <td>[[10251, 552], [1008, 10621]]</td>\n",
       "      <td>0.830502</td>\n",
       "      <td>0.948903</td>\n",
       "      <td>0.910472</td>\n",
       "      <td>0.720911</td>\n",
       "      <td>0.968928</td>\n",
       "      <td>0.0</td>\n",
       "    </tr>\n",
       "  </tbody>\n",
       "</table>\n",
       "</div>"
      ],
      "text/plain": [
       "                         confusion matrix  Accuracy  Precision    Recall  \\\n",
       "LR_CSCLR      [[1304, 10273], [125, 919]]  0.176135   0.112637  0.912526   \n",
       "DT_CSCLR      [[1167, 5611], [262, 5581]]  0.534664   0.172175  0.816655   \n",
       "SVM_CSCLR     [[1032, 3946], [397, 7246]]  0.655891   0.207312  0.722183   \n",
       "RF_CSCLR      [[1239, 6512], [190, 4680]]  0.468980   0.159850  0.867040   \n",
       "LR_BBC         [[803, 1817], [626, 9375]]  0.388067   0.306489  0.561931   \n",
       "DT_BBC         [[734, 1646], [695, 9546]]  0.464281   0.308403  0.513646   \n",
       "SVM_BBC        [[779, 2779], [650, 8413]]  0.471395   0.218943  0.545136   \n",
       "SR_BBC            [[1429, 11192], [0, 0]]  0.180224   0.113224  1.000000   \n",
       "RF_BBC         [[808, 1659], [621, 9533]]  0.180224   0.327523  0.565430   \n",
       "LR_SMOTE     [[7615, 2640], [3644, 8533]]  0.567152   0.742565  0.676348   \n",
       "DT_SMOTE   [[10175, 1157], [1084, 10016]]  0.781587   0.897900  0.903721   \n",
       "SVM_SMOTE    [[10340, 2283], [919, 8890]]  0.769052   0.819140  0.918376   \n",
       "SR_SMOTE    [[10229, 6890], [1030, 4283]]  0.477867   0.597523  0.908518   \n",
       "RF_SMOTE    [[10251, 552], [1008, 10621]]  0.830502   0.948903  0.910472   \n",
       "\n",
       "           F1 Score       auc  costloss  \n",
       "LR_CSCLR   0.200523  0.534065   11648.0  \n",
       "DT_CSCLR   0.284391  0.664934    8493.0  \n",
       "SVM_CSCLR  0.322148  0.761582    8313.0  \n",
       "RF_CSCLR   0.269935  0.703992    8602.0  \n",
       "LR_BBC     0.396641  0.762036    8703.0  \n",
       "DT_BBC     0.385403  0.728018    9291.0  \n",
       "SVM_BBC    0.312412  0.702617    9929.0  \n",
       "SR_BBC     0.312412  0.000000   11192.0  \n",
       "RF_BBC     0.203416  0.759422    8490.0  \n",
       "LR_SMOTE   0.707911  0.798574       0.0  \n",
       "DT_SMOTE   0.900801  0.901921       0.0  \n",
       "SVM_SMOTE  0.865924  0.911503       0.0  \n",
       "SR_SMOTE   0.865924  0.000000       0.0  \n",
       "RF_SMOTE   0.720911  0.968928       0.0  "
      ]
     },
     "execution_count": 43,
     "metadata": {},
     "output_type": "execute_result"
    }
   ],
   "source": [
    "result1.rename(columns={0: 'confusion matrix',1:'Accuracy',2: 'Precision',3: 'Recall',4: 'F1 Score',5:'auc',6:'costloss'}, inplace = True)\n",
    "result1.fillna(0, inplace=True)\n",
    "result1"
   ]
  },
  {
   "cell_type": "code",
   "execution_count": 44,
   "metadata": {},
   "outputs": [
    {
     "data": {
      "image/png": "[encoded data removed]",
      "text/plain": [
       "<Figure size 1080x576 with 1 Axes>"
      ]
     },
     "metadata": {
      "needs_background": "light"
     },
     "output_type": "display_data"
    }
   ],
   "source": [
    "plot = result1[['Accuracy','F1 Score','auc']].plot(kind ='line',figsize = (15,8), marker = 'o')\n",
    "plt.title('Accuracy,F1_Score and Area under ROC for all the classifiers')\n",
    "plt.ylabel('Score')\n",
    "plt.xlabel('Classifiers-cost sensitive,ensemble,SMOTE')\n",
    "plt.savefig(\"metrics.png\")\n",
    "plt.show()\n"
   ]
  },
  {
   "cell_type": "markdown",
   "metadata": {},
   "source": [
    "#### Observation: From the above results it can be clearly observed that the Oversampling with SMOTE techinique has higher Accuracies, F1 scores and areas under ROC compare to other two approaches (cost sensitive and Balance bagging ensemble classifier)\n",
    "\n",
    "> Further investigation is needed to recognize the best classifier among the five classifiers with Oversampled bank marketing dataset"
   ]
  },
  {
   "cell_type": "code",
   "execution_count": 45,
   "metadata": {},
   "outputs": [
    {
     "data": {
      "image/png": "[encoded data removed]",
      "text/plain": [
       "<Figure size 432x288 with 1 Axes>"
      ]
     },
     "metadata": {
      "needs_background": "light"
     },
     "output_type": "display_data"
    }
   ],
   "source": [
    "from sklearn.metrics import roc_curve\n",
    "\n",
    "plt.plot(fpr1, tpr1,label = 'LR', color='blue')\n",
    "\n",
    "plt.plot(fpr2, tpr2,label = 'DT', color='darkorange')\n",
    "\n",
    "plt.plot(fpr3, tpr3, label = 'SVM', color='green')\n",
    "\n",
    "plt.plot(fpr5, tpr5,  label = 'RF', color='brown')\n",
    "\n",
    "x = np.linspace(0,1,num=50)\n",
    "plt.plot(x,x,color='lightgrey',linestyle='--',marker='',lw=2)\n",
    "plt.legend(fontsize = 14)\n",
    "plt.xlabel('False positive rate', fontsize = 18)\n",
    "plt.ylabel('True positive rate', fontsize = 18)\n",
    "plt.xlim(0,1.1)\n",
    "plt.ylim(0,1.1)\n",
    "plt.savefig(\"RF_ROC.png\")\n",
    "plt.show()\n"
   ]
  },
  {
   "cell_type": "code",
   "execution_count": 46,
   "metadata": {},
   "outputs": [
    {
     "data": {
      "image/png": "[encoded data removed]",
      "text/plain": [
       "<Figure size 432x288 with 1 Axes>"
      ]
     },
     "metadata": {
      "needs_background": "light"
     },
     "output_type": "display_data"
    }
   ],
   "source": [
    "df_significance1=df_significance.T\n",
    "names_c = ['LR','DT','SVM','SR','RF']\n",
    "fig = plt.figure()\n",
    "fig.suptitle('Perfomance of Classification Algorithms')\n",
    "ax = fig.add_subplot(111)\n",
    "plt.boxplot(df_significance1)\n",
    "ax.set_xticklabels(names_c)\n",
    "plt.savefig(\"RF_Accuracy.png\")\n",
    "plt.show()"
   ]
  },
  {
   "cell_type": "markdown",
   "metadata": {},
   "source": [
    "**Random forest classifier is the best performing model.**\n",
    "\n",
    "Among all algorithms, Random forest achieved an accuracy of about 82%, suggesting a high level of strength of this model to classify the customer response given all the defined customer features. "
   ]
  },
  {
   "cell_type": "markdown",
   "metadata": {},
   "source": [
    "#### Test RF model on the test set"
   ]
  },
  {
   "cell_type": "code",
   "execution_count": 47,
   "metadata": {},
   "outputs": [
    {
     "name": "stdout",
     "output_type": "stream",
     "text": [
      "0.9272913694721826\n"
     ]
    }
   ],
   "source": [
    "OS_RF = RandomForestClassifier()\n",
    "OS_RF.fit(X_bs1_train,  Y_bs1_train)\n",
    "Y_bs1_pred = OS_RF.predict(X_bs1_test)\n",
    "# Accuracy Score \n",
    "print(accuracy_score(Y_bs1_test, Y_bs1_pred))"
   ]
  },
  {
   "cell_type": "markdown",
   "metadata": {},
   "source": [
    "Accuracy score is the percentage of correct predictions out of all predictions made. The RF algorithm achieves an accuracy of 92.64%, suggesting high level of strength of this model to classify the customer response given all the defined customer features. "
   ]
  },
  {
   "cell_type": "code",
   "execution_count": 48,
   "metadata": {},
   "outputs": [
    {
     "name": "stdout",
     "output_type": "stream",
     "text": [
      "[[10588   585]\n",
      " [ 1046 10213]]\n"
     ]
    },
    {
     "data": {
      "image/png": "[encoded data removed]",
      "text/plain": [
       "<Figure size 288x288 with 2 Axes>"
      ]
     },
     "metadata": {
      "needs_background": "light"
     },
     "output_type": "display_data"
    }
   ],
   "source": [
    "# Confusion Matrix \n",
    "from sklearn.metrics import confusion_matrix\n",
    "import pylab as pl\n",
    "\n",
    "print(confusion_matrix(Y_bs1_test, Y_bs1_pred))\n",
    "\n",
    "cm = confusion_matrix(Y_bs1_test, Y_bs1_pred)\n",
    "pl.matshow(cm)\n",
    "pl.title('Confusion matrix of the classifier')\n",
    "pl.colorbar()\n",
    "plt.savefig(\"RF_confusion matrix.png\")\n",
    "pl.show()"
   ]
  },
  {
   "cell_type": "markdown",
   "metadata": {},
   "source": [
    "A confusion matrix gives a detailed breakdown of prediction result and error types. Each cell in the matrix represents a combination of instances of the predicted response and the actual response. In the test set, the matrix proves that the algorithm performed well because most test results (10597 True Positive and 10186 true negative predictions) locate on the diagonal cells which represent correct predictions. 1073 tests (False negative) predicted the bank’s client would subscribe to the term deposit but they actually did not. \n",
    "\n",
    "**The confusion matrix thus reveals that the random forest classifier is accurately classifying the subscription of the clients.** This infers that the accuracy score is unbiased, and further evaluation also prove the same"
   ]
  },
  {
   "cell_type": "code",
   "execution_count": 49,
   "metadata": {},
   "outputs": [
    {
     "name": "stdout",
     "output_type": "stream",
     "text": [
      "              precision    recall  f1-score   support\n",
      "\n",
      "           0       0.91      0.95      0.93     11173\n",
      "           1       0.95      0.91      0.93     11259\n",
      "\n",
      "    accuracy                           0.93     22432\n",
      "   macro avg       0.93      0.93      0.93     22432\n",
      "weighted avg       0.93      0.93      0.93     22432\n",
      "\n"
     ]
    }
   ],
   "source": [
    "# Classification Report\n",
    "from sklearn.metrics import classification_report\n",
    "print(classification_report(Y_bs1_test, Y_bs1_pred))"
   ]
  },
  {
   "cell_type": "markdown",
   "metadata": {},
   "source": [
    "Classification report shows the precision, recall, F1 and support scores for the RF classification model. \n",
    "* Precision of 0 (the client said no) represents that for all instances predicted as no subscription, the percentage of clients that actually said no is 91%. \n",
    "* Recall is the ability of a classifier to find all positive instances. Recall of 0 indicates that for all clients that actually said no, the model predicts 95% correctly that they would decline the offer. \n",
    "\n",
    "* Precision of 1 (the client said yes) represents that for all instances predicted as yes subscription, the percentage of clients that actually said yes is 95%. \n",
    "* Recall of 1 indicates that for all clients that actually said yes, the model predicts 90% correctly that they would accept the offer. \n",
    "\n",
    "\n",
    "In general, the report shows that **RF model has great predictive power to identify the customers who would subscribe and who would not subscribe to the term deposit**. Hence we can conclude that RF algorithm can accurately classify those who are more likely to subscribe."
   ]
  },
  {
   "cell_type": "markdown",
   "metadata": {},
   "source": [
    "<a id='#7'></a>\n",
    "## 7. Results\n",
    "Five learning algorithms were evaluated, namely, logistic regression, decision trees, support vector machine, rule based and random forest in building cost sensitive classifiers, balance bagging ensemble classifier and oversampling (SMOTE) technique. It is observed that Random forest classifier with oversampling technique performed well with test set accuracy of 92.64%, AUC of 96% AND F1- score of 72%.\n",
    "\n",
    "##### Discussions\n",
    "1.\tBased on the feature importance plot, some recommendations can be made to the bank’s marketing team:\n",
    " -\tThe marketing team should target relatively old age customers who would be looking for safe and proﬁtable investment options. The marketers should ensure to convey the peace of mind and steady source of income these products provide as a value proposition to these customers. \n",
    " -\tAlthough the ‘duration’ (length of marketing phone call) variable was not used in the prediction models for various reasons cited earlier, the correlation of the ‘duration’ variable with the target variable shows that the higher the duration, the more likely it is that the customer will subscribe to the term deposits. This makes intuitive sense because longer duration shows that the customer is interested in the product. Hence, the marketers should try to make the call engaging and increase the duration of the call\n",
    " -\tThe marketing team should prioritize those customers to whom they previously reached out during previous campaigns. They are likely to subscribe for the term deposit.\n",
    "2.\tBased on the performance of the algorithmic level approach in handling class imbalance, a below question can be addressed.\n",
    " -\tWhy over-sampling outperformed cost sensitive learning and balanced bagging learning? \n",
    "\n",
    ">Firstly, many existing learning algo¬rithms are not designed to handle issues such as imbalanced data sets and to be cost sensitive. Cost sensitive learning just provides a way of “wrapping” the learning algorithms to handle the issues. Therefore, cost sensitive learning may not work well for certain data sets. \n",
    "\n",
    ">Secondly, bagging algorithms does not produce good results if the features are correlated. Therefore, this method might have failed as the bank dataset has correlated features.\n",
    "\n",
    ">Finally, it is noticed that the over-fitting problem that could be triggered by over-sam¬pling (as discussed in Cost Sensitive Learning) did not occur in this data set. After over-sampling, the decision region for the rare class can be clearly generalized. Therefore, the learning algorithm involved can identify the rare class eas¬ily.\n"
   ]
  },
  {
   "cell_type": "markdown",
   "metadata": {},
   "source": [
    "<a id='#8'></a>\n",
    "## 8. Conclusion & Recommendations\n",
    "\n",
    "In this study, cost sensitive learning, ensemble based unbalanced learning and oversampling (SMOTE) method were applied using Linear classification, Tree based, Distance based, Rule based, Ensemble based algorithms on the imbalanced bank direct marketing data set. \n",
    "\n",
    "The classifiers and unbalanced approaches are contrasted using the results obtained in this study.\n",
    "\n",
    "To conclude, cost sensitive learning and balanced bagging algorithm (an algorithm-level approach) are less effective for the bank direct marketing data set. Over-sampling (a data-level approach) should be the preference instead.\n",
    "\n",
    "The followings work could be considered as the future research.\n",
    "- Firstly, to evaluate cost sensitive classification and to find out how would learning algorithms respond when the probability threshold is adjusted according to different error cost ratios. \n",
    "- Secondly, to evaluate balanced bagging – ensemble-based imbalance learn algorithm on different other base classifiers to check if there will be any improvement in the performance.\n"
   ]
  },
  {
   "cell_type": "markdown",
   "metadata": {},
   "source": [
    "<a id='#9'></a>\n",
    "## 9. References"
   ]
  },
  {
   "cell_type": "markdown",
   "metadata": {},
   "source": [
    "- [Moro et al., 2014] S. Moro, P. Cortez and P. Rita. A Data-Driven Approach to Predict the Success of Bank Telemarketing.     Decision Support Systems, Elsevier, 62:22-31, June 2014 \n",
    "”http://media.salford-systems.com/video/tutorial/2015/targeted_marketing.pdf”\n",
    "- Yang Q, Wu X. 10 Challenging Problems in Data Mining Research. International Journal of Information Technology & Decision Making. 2006 Dec; 5(04):597-04.\n",
    "- Kotsiantis S, Kanellopoulos D, Pintelas P. Handling imbalanced datasets: A review. GESTS International Transactions on Computer Science and Engineering. 2006 Dec; 30(1):25-36.\n",
    "- Zhou B, Liu Q. Springer Berlin Heidelberg: A comparison study of cost-sensitive classifier evaluations. International Conference on Brain Informatics. 2012 Dec; p. 360-71.\n",
    "- https://www.analyticsvidhya.com/blog/2017/03/imbalanced-classification-problem/\n",
    "- N. V. Chawla, K. W. Bowyer, L. O. Hall, W. P. Kegelmeyer: SMOTE: Synthetic Minority Over-Sampling Technique \n",
    "- Ling CX, Sheng VS. Springer US: Cost-sensitive learning. Encyclopedia of Machine Learning. 2008; p. 231-35."
   ]
  }
 ],
 "metadata": {
  "kernelspec": {
   "display_name": "Python 3",
   "language": "python",
   "name": "python3"
  },
  "language_info": {
   "codemirror_mode": {
    "name": "ipython",
    "version": 3
   },
   "file_extension": ".py",
   "mimetype": "text/x-python",
   "name": "python",
   "nbconvert_exporter": "python",
   "pygments_lexer": "ipython3",
   "version": "3.6.8"
  }
 },
 "nbformat": 4,
 "nbformat_minor": 2
}
