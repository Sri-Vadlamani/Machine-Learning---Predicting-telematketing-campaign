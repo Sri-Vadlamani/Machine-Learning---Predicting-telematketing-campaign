{
 "cells": [
  {
   "cell_type": "markdown",
   "metadata": {},
   "source": [
    "#   <center> Machine Learning - CSI5155 Fall 2019 <center>University of Ottawa \n",
    "##   <center> Project: Predict the Success of Bank Telemarketing Campaign\n",
    "###  <center>Submitted by: Sri Lakshmi Vadlamani <center>Student ID: 300154172"
   ]
  },
  {
   "cell_type": "markdown",
   "metadata": {},
   "source": [
    "# Table of Contents\n",
    "\n",
    "1. **[Introduction](#1)**\n",
    "2. **[Data preprocessing & Data Visualization](#2)**    - \n",
    "3. **[Model construction](#3)**\n",
    "4. **[Model evaluation](#4)**\n",
    "5. **[Insights drawn](#5)**\n",
    "6. **[Conclusion & Recommendations](#6)**\n",
    "7. **[References](#7)**"
   ]
  },
  {
   "cell_type": "markdown",
   "metadata": {},
   "source": [
    "<a id='#1'></a>\n",
    "### Introduction\n",
    "\n",
    "The goal of this project is to predict the success of telemarketing calls for selling bank long-term deposits by employing several supervised machine learning algorithms. Understanding customers' needs and developing better marketing strategies increases overall productivity of banking industry, thus reducing the expenditure on undesirable advertisements.  \n",
    "\n",
    "The dataset for this project originates from the UCI Machine Learning Repository. This dataset is a modified version of the dataset published in the paper  [Moro et al., 2014].\n",
    "”http://media.salford-systems.com/video/tutorial/2015/targeted_marketing.pdf”"
   ]
  },
  {
   "cell_type": "code",
   "execution_count": null,
   "metadata": {},
   "outputs": [],
   "source": []
  },
  {
   "cell_type": "markdown",
   "metadata": {},
   "source": [
    "<a id='#7'></a>\n",
    "### References\n",
    "- [Moro et al., 2014] S. Moro, P. Cortez and P. Rita. A Data-Driven Approach to Predict the Success of Bank Telemarketing.     Decision Support Systems, Elsevier, 62:22-31, June 2014 \n",
    "”http://media.salford-systems.com/video/tutorial/2015/targeted_marketing.pdf”"
   ]
  },
  {
   "cell_type": "code",
   "execution_count": null,
   "metadata": {},
   "outputs": [],
   "source": []
  }
 ],
 "metadata": {
  "kernelspec": {
   "display_name": "Python 3",
   "language": "python",
   "name": "python3"
  },
  "language_info": {
   "codemirror_mode": {
    "name": "ipython",
    "version": 3
   },
   "file_extension": ".py",
   "mimetype": "text/x-python",
   "name": "python",
   "nbconvert_exporter": "python",
   "pygments_lexer": "ipython3",
   "version": "3.6.8"
  }
 },
 "nbformat": 4,
 "nbformat_minor": 2
}
